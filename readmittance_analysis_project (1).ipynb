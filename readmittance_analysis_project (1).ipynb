{
  "nbformat": 4,
  "nbformat_minor": 0,
  "metadata": {
    "colab": {
      "provenance": []
    },
    "kernelspec": {
      "name": "python3",
      "display_name": "Python 3"
    },
    "language_info": {
      "name": "python"
    }
  },
  "cells": [
    {
      "cell_type": "markdown",
      "source": [
        "# Readmittance Analysis for Diabetes Patients"
      ],
      "metadata": {
        "id": "hluBAa56KAwJ"
      }
    },
    {
      "cell_type": "markdown",
      "source": [
        "## Install and import Pyspark and load data from CSV file"
      ],
      "metadata": {
        "id": "ZTURefytKSCj"
      }
    },
    {
      "cell_type": "code",
      "source": [
        "pip install pyspark"
      ],
      "metadata": {
        "colab": {
          "base_uri": "https://localhost:8080/"
        },
        "id": "xhTKWUftKae7",
        "outputId": "14c5e3fc-f45a-487b-e9f5-567ed6d0852d"
      },
      "execution_count": 1,
      "outputs": [
        {
          "output_type": "stream",
          "name": "stdout",
          "text": [
            "Looking in indexes: https://pypi.org/simple, https://us-python.pkg.dev/colab-wheels/public/simple/\n",
            "Collecting pyspark\n",
            "  Downloading pyspark-3.3.1.tar.gz (281.4 MB)\n",
            "\u001b[K     |████████████████████████████████| 281.4 MB 52 kB/s \n",
            "\u001b[?25hCollecting py4j==0.10.9.5\n",
            "  Downloading py4j-0.10.9.5-py2.py3-none-any.whl (199 kB)\n",
            "\u001b[K     |████████████████████████████████| 199 kB 66.8 MB/s \n",
            "\u001b[?25hBuilding wheels for collected packages: pyspark\n",
            "  Building wheel for pyspark (setup.py) ... \u001b[?25l\u001b[?25hdone\n",
            "  Created wheel for pyspark: filename=pyspark-3.3.1-py2.py3-none-any.whl size=281845512 sha256=47b736ffac576b881fe87a46d9d86df9cc765a4a5ae2e2145bf07fb27181a80c\n",
            "  Stored in directory: /root/.cache/pip/wheels/43/dc/11/ec201cd671da62fa9c5cc77078235e40722170ceba231d7598\n",
            "Successfully built pyspark\n",
            "Installing collected packages: py4j, pyspark\n",
            "Successfully installed py4j-0.10.9.5 pyspark-3.3.1\n"
          ]
        }
      ]
    },
    {
      "cell_type": "code",
      "source": [
        "from pyspark.sql.types import *\n",
        "from pyspark.sql.functions import *\n",
        "from pyspark.sql import SparkSession"
      ],
      "metadata": {
        "id": "jA8GC-_uKm-K"
      },
      "execution_count": 2,
      "outputs": []
    },
    {
      "cell_type": "code",
      "execution_count": 64,
      "metadata": {
        "colab": {
          "base_uri": "https://localhost:8080/"
        },
        "id": "ktpwRO5SJlBE",
        "outputId": "9a4853d0-eb28-4ed2-a52e-8d9bf37b2e94"
      },
      "outputs": [
        {
          "output_type": "stream",
          "name": "stdout",
          "text": [
            "+------------+-----------+---------------+------+-------+------+-----------------+------------------------+-------------------+----------------+----------+--------------------+------------------+--------------+---------------+-----------------+----------------+----------------+------+------+------+----------------+-------------+---------+---------+-----------+-----------+--------------+-----------+-------------+---------+---------+-----------+------------+-------------+--------+--------+------------+----------+-------+-----------+-------+-------------------+-------------------+------------------------+-----------------------+----------------------+------+-----------+----------+\n",
            "|encounter_id|patient_nbr|           race|gender|    age|weight|admission_type_id|discharge_disposition_id|admission_source_id|time_in_hospital|payer_code|   medical_specialty|num_lab_procedures|num_procedures|num_medications|number_outpatient|number_emergency|number_inpatient|diag_1|diag_2|diag_3|number_diagnoses|max_glu_serum|A1Cresult|metformin|repaglinide|nateglinide|chlorpropamide|glimepiride|acetohexamide|glipizide|glyburide|tolbutamide|pioglitazone|rosiglitazone|acarbose|miglitol|troglitazone|tolazamide|examide|citoglipton|insulin|glyburide-metformin|glipizide-metformin|glimepiride-pioglitazone|metformin-rosiglitazone|metformin-pioglitazone|change|diabetesMed|readmitted|\n",
            "+------------+-----------+---------------+------+-------+------+-----------------+------------------------+-------------------+----------------+----------+--------------------+------------------+--------------+---------------+-----------------+----------------+----------------+------+------+------+----------------+-------------+---------+---------+-----------+-----------+--------------+-----------+-------------+---------+---------+-----------+------------+-------------+--------+--------+------------+----------+-------+-----------+-------+-------------------+-------------------+------------------------+-----------------------+----------------------+------+-----------+----------+\n",
            "|     2278392|    8222157|      Caucasian|Female| [0-10)|  null|                6|                      25|                  1|               1|      null|Pediatrics-Endocr...|                41|             0|              1|                0|               0|               0|250.83|  null|  null|               1|         None|     None|       No|         No|         No|            No|         No|           No|       No|       No|         No|          No|           No|      No|      No|          No|        No|     No|         No|     No|                 No|                 No|                      No|                     No|                    No|    No|         No|        NO|\n",
            "|      149190|   55629189|      Caucasian|Female|[10-20)|  null|                1|                       1|                  7|               3|      null|                null|                59|             0|             18|                0|               0|               0|   276|250.01|   255|               9|         None|     None|       No|         No|         No|            No|         No|           No|       No|       No|         No|          No|           No|      No|      No|          No|        No|     No|         No|     Up|                 No|                 No|                      No|                     No|                    No|    Ch|        Yes|       >30|\n",
            "|       64410|   86047875|AfricanAmerican|Female|[20-30)|  null|                1|                       1|                  7|               2|      null|                null|                11|             5|             13|                2|               0|               1|   648|   250|   V27|               6|         None|     None|       No|         No|         No|            No|         No|           No|   Steady|       No|         No|          No|           No|      No|      No|          No|        No|     No|         No|     No|                 No|                 No|                      No|                     No|                    No|    No|        Yes|        NO|\n",
            "|      500364|   82442376|      Caucasian|  Male|[30-40)|  null|                1|                       1|                  7|               2|      null|                null|                44|             1|             16|                0|               0|               0|     8|250.43|   403|               7|         None|     None|       No|         No|         No|            No|         No|           No|       No|       No|         No|          No|           No|      No|      No|          No|        No|     No|         No|     Up|                 No|                 No|                      No|                     No|                    No|    Ch|        Yes|        NO|\n",
            "|       16680|   42519267|      Caucasian|  Male|[40-50)|  null|                1|                       1|                  7|               1|      null|                null|                51|             0|              8|                0|               0|               0|   197|   157|   250|               5|         None|     None|       No|         No|         No|            No|         No|           No|   Steady|       No|         No|          No|           No|      No|      No|          No|        No|     No|         No| Steady|                 No|                 No|                      No|                     No|                    No|    Ch|        Yes|        NO|\n",
            "+------------+-----------+---------------+------+-------+------+-----------------+------------------------+-------------------+----------------+----------+--------------------+------------------+--------------+---------------+-----------------+----------------+----------------+------+------+------+----------------+-------------+---------+---------+-----------+-----------+--------------+-----------+-------------+---------+---------+-----------+------------+-------------+--------+--------+------------+----------+-------+-----------+-------+-------------------+-------------------+------------------------+-----------------------+----------------------+------+-----------+----------+\n",
            "only showing top 5 rows\n",
            "\n"
          ]
        }
      ],
      "source": [
        "file_path = 'diabetic_data.csv'\n",
        "\n",
        "spark = SparkSession.builder.appName('Semester Project - Diabetes Data Analysis').getOrCreate()\n",
        "\n",
        "df = spark.read.csv(file_path, header=True, inferSchema=True, nullValue='?')\n",
        "df.show(5)"
      ]
    },
    {
      "cell_type": "markdown",
      "source": [
        "## Exploratory Data Analysis and cleaning"
      ],
      "metadata": {
        "id": "Ypu5bRQkLpGw"
      }
    },
    {
      "cell_type": "code",
      "source": [
        "df.printSchema()"
      ],
      "metadata": {
        "colab": {
          "base_uri": "https://localhost:8080/"
        },
        "id": "My7lC-3TLnJ6",
        "outputId": "cba7a06d-5683-469a-d17f-dc899b046d58"
      },
      "execution_count": 4,
      "outputs": [
        {
          "output_type": "stream",
          "name": "stdout",
          "text": [
            "root\n",
            " |-- encounter_id: integer (nullable = true)\n",
            " |-- patient_nbr: integer (nullable = true)\n",
            " |-- race: string (nullable = true)\n",
            " |-- gender: string (nullable = true)\n",
            " |-- age: string (nullable = true)\n",
            " |-- weight: string (nullable = true)\n",
            " |-- admission_type_id: integer (nullable = true)\n",
            " |-- discharge_disposition_id: integer (nullable = true)\n",
            " |-- admission_source_id: integer (nullable = true)\n",
            " |-- time_in_hospital: integer (nullable = true)\n",
            " |-- payer_code: string (nullable = true)\n",
            " |-- medical_specialty: string (nullable = true)\n",
            " |-- num_lab_procedures: integer (nullable = true)\n",
            " |-- num_procedures: integer (nullable = true)\n",
            " |-- num_medications: integer (nullable = true)\n",
            " |-- number_outpatient: integer (nullable = true)\n",
            " |-- number_emergency: integer (nullable = true)\n",
            " |-- number_inpatient: integer (nullable = true)\n",
            " |-- diag_1: string (nullable = true)\n",
            " |-- diag_2: string (nullable = true)\n",
            " |-- diag_3: string (nullable = true)\n",
            " |-- number_diagnoses: integer (nullable = true)\n",
            " |-- max_glu_serum: string (nullable = true)\n",
            " |-- A1Cresult: string (nullable = true)\n",
            " |-- metformin: string (nullable = true)\n",
            " |-- repaglinide: string (nullable = true)\n",
            " |-- nateglinide: string (nullable = true)\n",
            " |-- chlorpropamide: string (nullable = true)\n",
            " |-- glimepiride: string (nullable = true)\n",
            " |-- acetohexamide: string (nullable = true)\n",
            " |-- glipizide: string (nullable = true)\n",
            " |-- glyburide: string (nullable = true)\n",
            " |-- tolbutamide: string (nullable = true)\n",
            " |-- pioglitazone: string (nullable = true)\n",
            " |-- rosiglitazone: string (nullable = true)\n",
            " |-- acarbose: string (nullable = true)\n",
            " |-- miglitol: string (nullable = true)\n",
            " |-- troglitazone: string (nullable = true)\n",
            " |-- tolazamide: string (nullable = true)\n",
            " |-- examide: string (nullable = true)\n",
            " |-- citoglipton: string (nullable = true)\n",
            " |-- insulin: string (nullable = true)\n",
            " |-- glyburide-metformin: string (nullable = true)\n",
            " |-- glipizide-metformin: string (nullable = true)\n",
            " |-- glimepiride-pioglitazone: string (nullable = true)\n",
            " |-- metformin-rosiglitazone: string (nullable = true)\n",
            " |-- metformin-pioglitazone: string (nullable = true)\n",
            " |-- change: string (nullable = true)\n",
            " |-- diabetesMed: string (nullable = true)\n",
            " |-- readmitted: string (nullable = true)\n",
            "\n"
          ]
        }
      ]
    },
    {
      "cell_type": "code",
      "source": [
        "print('Rows:',df.count())\n",
        "print('Columns:',len(df.columns))"
      ],
      "metadata": {
        "colab": {
          "base_uri": "https://localhost:8080/"
        },
        "id": "QoeY6SmvNVak",
        "outputId": "c9964e60-a075-4dd7-b651-f5f8f3f3a79a"
      },
      "execution_count": 5,
      "outputs": [
        {
          "output_type": "stream",
          "name": "stdout",
          "text": [
            "Rows: 101766\n",
            "Columns: 50\n"
          ]
        }
      ]
    },
    {
      "cell_type": "code",
      "source": [
        "# Get the number of null values in each column\n",
        "df.select([count(when(isnan(c) | col(c).isNull(), c)).alias(c) for c in df.columns]).show()"
      ],
      "metadata": {
        "colab": {
          "base_uri": "https://localhost:8080/"
        },
        "id": "oXSGtAPXW5NA",
        "outputId": "38648edc-984c-4d6f-c6a7-c7b19e5b04b1"
      },
      "execution_count": 6,
      "outputs": [
        {
          "output_type": "stream",
          "name": "stdout",
          "text": [
            "+------------+-----------+----+------+---+------+-----------------+------------------------+-------------------+----------------+----------+-----------------+------------------+--------------+---------------+-----------------+----------------+----------------+------+------+------+----------------+-------------+---------+---------+-----------+-----------+--------------+-----------+-------------+---------+---------+-----------+------------+-------------+--------+--------+------------+----------+-------+-----------+-------+-------------------+-------------------+------------------------+-----------------------+----------------------+------+-----------+----------+\n",
            "|encounter_id|patient_nbr|race|gender|age|weight|admission_type_id|discharge_disposition_id|admission_source_id|time_in_hospital|payer_code|medical_specialty|num_lab_procedures|num_procedures|num_medications|number_outpatient|number_emergency|number_inpatient|diag_1|diag_2|diag_3|number_diagnoses|max_glu_serum|A1Cresult|metformin|repaglinide|nateglinide|chlorpropamide|glimepiride|acetohexamide|glipizide|glyburide|tolbutamide|pioglitazone|rosiglitazone|acarbose|miglitol|troglitazone|tolazamide|examide|citoglipton|insulin|glyburide-metformin|glipizide-metformin|glimepiride-pioglitazone|metformin-rosiglitazone|metformin-pioglitazone|change|diabetesMed|readmitted|\n",
            "+------------+-----------+----+------+---+------+-----------------+------------------------+-------------------+----------------+----------+-----------------+------------------+--------------+---------------+-----------------+----------------+----------------+------+------+------+----------------+-------------+---------+---------+-----------+-----------+--------------+-----------+-------------+---------+---------+-----------+------------+-------------+--------+--------+------------+----------+-------+-----------+-------+-------------------+-------------------+------------------------+-----------------------+----------------------+------+-----------+----------+\n",
            "|           0|          0|2273|     0|  0| 98569|                0|                       0|                  0|               0|     40256|            49949|                 0|             0|              0|                0|               0|               0|    21|   358|  1423|               0|            0|        0|        0|          0|          0|             0|          0|            0|        0|        0|          0|           0|            0|       0|       0|           0|         0|      0|          0|      0|                  0|                  0|                       0|                      0|                     0|     0|          0|         0|\n",
            "+------------+-----------+----+------+---+------+-----------------+------------------------+-------------------+----------------+----------+-----------------+------------------+--------------+---------------+-----------------+----------------+----------------+------+------+------+----------------+-------------+---------+---------+-----------+-----------+--------------+-----------+-------------+---------+---------+-----------+------------+-------------+--------+--------+------------+----------+-------+-----------+-------+-------------------+-------------------+------------------------+-----------------------+----------------------+------+-----------+----------+\n",
            "\n"
          ]
        }
      ]
    },
    {
      "cell_type": "code",
      "source": [
        "df.groupBy('weight').count().show()"
      ],
      "metadata": {
        "colab": {
          "base_uri": "https://localhost:8080/"
        },
        "id": "whXcA34oNMWo",
        "outputId": "ea715fd4-d0b7-4f57-ea7e-2a7222584ff7"
      },
      "execution_count": 7,
      "outputs": [
        {
          "output_type": "stream",
          "name": "stdout",
          "text": [
            "+---------+-----+\n",
            "|   weight|count|\n",
            "+---------+-----+\n",
            "|[150-175)|   35|\n",
            "|[125-150)|  145|\n",
            "|     null|98569|\n",
            "|   [0-25)|   48|\n",
            "|  [25-50)|   97|\n",
            "| [75-100)| 1336|\n",
            "|[175-200)|   11|\n",
            "|[100-125)|  625|\n",
            "|     >200|    3|\n",
            "|  [50-75)|  897|\n",
            "+---------+-----+\n",
            "\n"
          ]
        }
      ]
    },
    {
      "cell_type": "code",
      "source": [
        "df.groupBy('encounter_id').count().count()"
      ],
      "metadata": {
        "colab": {
          "base_uri": "https://localhost:8080/"
        },
        "id": "5UoZLZbPX_-5",
        "outputId": "285b0d07-5bd5-4667-e63f-a0ef039a7383"
      },
      "execution_count": 8,
      "outputs": [
        {
          "output_type": "execute_result",
          "data": {
            "text/plain": [
              "101766"
            ]
          },
          "metadata": {},
          "execution_count": 8
        }
      ]
    },
    {
      "cell_type": "code",
      "source": [
        "df.groupBy('patient_nbr').count().count()"
      ],
      "metadata": {
        "colab": {
          "base_uri": "https://localhost:8080/"
        },
        "id": "2wtWNcWSYKXP",
        "outputId": "bbeb2211-284b-472a-fc21-ca7c8cd8d3b1"
      },
      "execution_count": 9,
      "outputs": [
        {
          "output_type": "execute_result",
          "data": {
            "text/plain": [
              "71518"
            ]
          },
          "metadata": {},
          "execution_count": 9
        }
      ]
    },
    {
      "cell_type": "code",
      "source": [
        "df.groupBy('payer_code').count().orderBy('count',ascending=False).show()"
      ],
      "metadata": {
        "colab": {
          "base_uri": "https://localhost:8080/"
        },
        "id": "WAXsLIpQYZxb",
        "outputId": "2a6e6d37-6915-423f-90ac-fc662a0e8a50"
      },
      "execution_count": 10,
      "outputs": [
        {
          "output_type": "stream",
          "name": "stdout",
          "text": [
            "+----------+-----+\n",
            "|payer_code|count|\n",
            "+----------+-----+\n",
            "|      null|40256|\n",
            "|        MC|32439|\n",
            "|        HM| 6274|\n",
            "|        SP| 5007|\n",
            "|        BC| 4655|\n",
            "|        MD| 3532|\n",
            "|        CP| 2533|\n",
            "|        UN| 2448|\n",
            "|        CM| 1937|\n",
            "|        OG| 1033|\n",
            "|        PO|  592|\n",
            "|        DM|  549|\n",
            "|        CH|  146|\n",
            "|        WC|  135|\n",
            "|        OT|   95|\n",
            "|        MP|   79|\n",
            "|        SI|   55|\n",
            "|        FR|    1|\n",
            "+----------+-----+\n",
            "\n"
          ]
        }
      ]
    },
    {
      "cell_type": "code",
      "source": [
        "df.groupBy('medical_specialty').count().orderBy('count',ascending=False).show()"
      ],
      "metadata": {
        "colab": {
          "base_uri": "https://localhost:8080/"
        },
        "id": "gfpbPd7BYlOG",
        "outputId": "f504bad6-f464-4e8d-a830-a2d9acbd8976"
      },
      "execution_count": 11,
      "outputs": [
        {
          "output_type": "stream",
          "name": "stdout",
          "text": [
            "+--------------------+-----+\n",
            "|   medical_specialty|count|\n",
            "+--------------------+-----+\n",
            "|                null|49949|\n",
            "|    InternalMedicine|14635|\n",
            "|    Emergency/Trauma| 7565|\n",
            "|Family/GeneralPra...| 7440|\n",
            "|          Cardiology| 5352|\n",
            "|     Surgery-General| 3099|\n",
            "|          Nephrology| 1613|\n",
            "|         Orthopedics| 1400|\n",
            "|Orthopedics-Recon...| 1233|\n",
            "|         Radiologist| 1140|\n",
            "|         Pulmonology|  871|\n",
            "|          Psychiatry|  854|\n",
            "|             Urology|  685|\n",
            "|ObstetricsandGyne...|  671|\n",
            "|Surgery-Cardiovas...|  652|\n",
            "|    Gastroenterology|  564|\n",
            "|    Surgery-Vascular|  533|\n",
            "|       Surgery-Neuro|  468|\n",
            "|PhysicalMedicinea...|  391|\n",
            "|            Oncology|  348|\n",
            "+--------------------+-----+\n",
            "only showing top 20 rows\n",
            "\n"
          ]
        }
      ]
    },
    {
      "cell_type": "code",
      "source": [
        "df.groupBy('diag_1').count().orderBy('count',ascending=False).show()"
      ],
      "metadata": {
        "colab": {
          "base_uri": "https://localhost:8080/"
        },
        "id": "WZGIEkKbYumZ",
        "outputId": "a9874739-44ea-4dd2-9405-8cc78c083645"
      },
      "execution_count": 12,
      "outputs": [
        {
          "output_type": "stream",
          "name": "stdout",
          "text": [
            "+------+-----+\n",
            "|diag_1|count|\n",
            "+------+-----+\n",
            "|   428| 6862|\n",
            "|   414| 6581|\n",
            "|   786| 4016|\n",
            "|   410| 3614|\n",
            "|   486| 3508|\n",
            "|   427| 2766|\n",
            "|   491| 2275|\n",
            "|   715| 2151|\n",
            "|   682| 2042|\n",
            "|   434| 2028|\n",
            "|   780| 2019|\n",
            "|   996| 1967|\n",
            "|   276| 1889|\n",
            "|    38| 1688|\n",
            "| 250.8| 1680|\n",
            "|   599| 1595|\n",
            "|   584| 1520|\n",
            "|   V57| 1207|\n",
            "| 250.6| 1183|\n",
            "|   518| 1115|\n",
            "+------+-----+\n",
            "only showing top 20 rows\n",
            "\n"
          ]
        }
      ]
    },
    {
      "cell_type": "markdown",
      "source": [
        "Encounter ID is unique to each column. Patient number is an identifier unique to each patient. Weight, payer code, and medical specialty have too many missing values, and it is unclear what the diag columns mean. These will be dropped from analysis."
      ],
      "metadata": {
        "id": "7aKLweF4Y5dX"
      }
    },
    {
      "cell_type": "code",
      "source": [
        "# Drop unnecessary columns\n",
        "for c in ['encounter_id','patient_nbr','weight','payer_code','medical_specialty','diag_1','diag_2','diag_3']:\n",
        "  df = df.drop(c)\n",
        "df.printSchema()"
      ],
      "metadata": {
        "colab": {
          "base_uri": "https://localhost:8080/"
        },
        "id": "jCWfFwr3Y2Ez",
        "outputId": "084cd1f8-0b6e-4a39-d981-5b9782fcbdb3"
      },
      "execution_count": 13,
      "outputs": [
        {
          "output_type": "stream",
          "name": "stdout",
          "text": [
            "root\n",
            " |-- race: string (nullable = true)\n",
            " |-- gender: string (nullable = true)\n",
            " |-- age: string (nullable = true)\n",
            " |-- admission_type_id: integer (nullable = true)\n",
            " |-- discharge_disposition_id: integer (nullable = true)\n",
            " |-- admission_source_id: integer (nullable = true)\n",
            " |-- time_in_hospital: integer (nullable = true)\n",
            " |-- num_lab_procedures: integer (nullable = true)\n",
            " |-- num_procedures: integer (nullable = true)\n",
            " |-- num_medications: integer (nullable = true)\n",
            " |-- number_outpatient: integer (nullable = true)\n",
            " |-- number_emergency: integer (nullable = true)\n",
            " |-- number_inpatient: integer (nullable = true)\n",
            " |-- number_diagnoses: integer (nullable = true)\n",
            " |-- max_glu_serum: string (nullable = true)\n",
            " |-- A1Cresult: string (nullable = true)\n",
            " |-- metformin: string (nullable = true)\n",
            " |-- repaglinide: string (nullable = true)\n",
            " |-- nateglinide: string (nullable = true)\n",
            " |-- chlorpropamide: string (nullable = true)\n",
            " |-- glimepiride: string (nullable = true)\n",
            " |-- acetohexamide: string (nullable = true)\n",
            " |-- glipizide: string (nullable = true)\n",
            " |-- glyburide: string (nullable = true)\n",
            " |-- tolbutamide: string (nullable = true)\n",
            " |-- pioglitazone: string (nullable = true)\n",
            " |-- rosiglitazone: string (nullable = true)\n",
            " |-- acarbose: string (nullable = true)\n",
            " |-- miglitol: string (nullable = true)\n",
            " |-- troglitazone: string (nullable = true)\n",
            " |-- tolazamide: string (nullable = true)\n",
            " |-- examide: string (nullable = true)\n",
            " |-- citoglipton: string (nullable = true)\n",
            " |-- insulin: string (nullable = true)\n",
            " |-- glyburide-metformin: string (nullable = true)\n",
            " |-- glipizide-metformin: string (nullable = true)\n",
            " |-- glimepiride-pioglitazone: string (nullable = true)\n",
            " |-- metformin-rosiglitazone: string (nullable = true)\n",
            " |-- metformin-pioglitazone: string (nullable = true)\n",
            " |-- change: string (nullable = true)\n",
            " |-- diabetesMed: string (nullable = true)\n",
            " |-- readmitted: string (nullable = true)\n",
            "\n"
          ]
        }
      ]
    },
    {
      "cell_type": "code",
      "source": [
        "# Drop rows with null values\n",
        "df = df.dropna()\n",
        "df.count()"
      ],
      "metadata": {
        "colab": {
          "base_uri": "https://localhost:8080/"
        },
        "id": "kfdz5Z-OcBj6",
        "outputId": "4c550a92-ccaf-409b-a2c3-09f6b119f51a"
      },
      "execution_count": 14,
      "outputs": [
        {
          "output_type": "execute_result",
          "data": {
            "text/plain": [
              "99493"
            ]
          },
          "metadata": {},
          "execution_count": 14
        }
      ]
    },
    {
      "cell_type": "code",
      "source": [
        "# Describe numeric features\n",
        "int_cols = ['admission_type_id','discharge_disposition_id','admission_source_id','time_in_hospital','num_procedures','num_lab_procedures','num_medications','number_outpatient','number_emergency','number_inpatient','number_diagnoses']\n",
        "str_cols = [c for c in df.columns if c not in int_cols]\n",
        "df.select(int_cols).describe().show()"
      ],
      "metadata": {
        "colab": {
          "base_uri": "https://localhost:8080/"
        },
        "id": "ZxV9n-UFaAba",
        "outputId": "aede0f4f-0c46-43e7-d9f4-a15c279dc160"
      },
      "execution_count": 15,
      "outputs": [
        {
          "output_type": "stream",
          "name": "stdout",
          "text": [
            "+-------+------------------+------------------------+-------------------+------------------+------------------+------------------+------------------+------------------+-------------------+------------------+------------------+\n",
            "|summary| admission_type_id|discharge_disposition_id|admission_source_id|  time_in_hospital|    num_procedures|num_lab_procedures|   num_medications| number_outpatient|   number_emergency|  number_inpatient|  number_diagnoses|\n",
            "+-------+------------------+------------------------+-------------------+------------------+------------------+------------------+------------------+------------------+-------------------+------------------+------------------+\n",
            "|  count|             99493|                   99493|              99493|             99493|             99493|             99493|             99493|             99493|              99493|             99493|             99493|\n",
            "|   mean|2.0272481481109224|       3.740856140633009| 5.7709487099594945| 4.398419989345984|1.3405767239906325|43.072588021267826|16.026604886775953|0.3733528991989386|0.20134079784507453|0.6431005196345472|7.4392168293246765|\n",
            "| stddev|1.4508565141314569|       5.309393412003755|  4.072913171152482|2.9869767708823347| 1.703716832217502|19.695857581402905| 8.119790343622595|1.2767990556356932| 0.9399765290802774|1.2713652982928536| 1.926063868526607|\n",
            "|    min|                 1|                       1|                  1|                 1|                 0|                 1|                 1|                 0|                  0|                 0|                 1|\n",
            "|    max|                 8|                      28|                 25|                14|                 6|               132|                81|                42|                 76|                21|                16|\n",
            "+-------+------------------+------------------------+-------------------+------------------+------------------+------------------+------------------+------------------+-------------------+------------------+------------------+\n",
            "\n"
          ]
        }
      ]
    },
    {
      "cell_type": "code",
      "source": [
        "# Get the number of unique values for each categorical column\n",
        "for s in str_cols:\n",
        "  print(s,df.groupBy(s).count().count())"
      ],
      "metadata": {
        "colab": {
          "base_uri": "https://localhost:8080/"
        },
        "id": "8DEHgEu8ctCC",
        "outputId": "ab64993f-630a-4784-ed8a-56b583adf1bd"
      },
      "execution_count": 16,
      "outputs": [
        {
          "output_type": "stream",
          "name": "stdout",
          "text": [
            "race 5\n",
            "gender 3\n",
            "age 10\n",
            "max_glu_serum 4\n",
            "A1Cresult 4\n",
            "metformin 4\n",
            "repaglinide 4\n",
            "nateglinide 4\n",
            "chlorpropamide 4\n",
            "glimepiride 4\n",
            "acetohexamide 2\n",
            "glipizide 4\n",
            "glyburide 4\n",
            "tolbutamide 2\n",
            "pioglitazone 4\n",
            "rosiglitazone 4\n",
            "acarbose 4\n",
            "miglitol 4\n",
            "troglitazone 2\n",
            "tolazamide 3\n",
            "examide 1\n",
            "citoglipton 1\n",
            "insulin 4\n",
            "glyburide-metformin 4\n",
            "glipizide-metformin 2\n",
            "glimepiride-pioglitazone 2\n",
            "metformin-rosiglitazone 1\n",
            "metformin-pioglitazone 2\n",
            "change 2\n",
            "diabetesMed 2\n",
            "readmitted 3\n"
          ]
        }
      ]
    },
    {
      "cell_type": "code",
      "source": [
        "# Show the distribution of values for each categorical column\n",
        "for s in str_cols:\n",
        "  df.groupBy(s).count().orderBy('count',ascending=False).show()"
      ],
      "metadata": {
        "colab": {
          "base_uri": "https://localhost:8080/"
        },
        "id": "nxawl9zCedOn",
        "outputId": "81124b4c-82ab-4772-f78e-5ce95753b587"
      },
      "execution_count": 17,
      "outputs": [
        {
          "output_type": "stream",
          "name": "stdout",
          "text": [
            "+---------------+-----+\n",
            "|           race|count|\n",
            "+---------------+-----+\n",
            "|      Caucasian|76099|\n",
            "|AfricanAmerican|19210|\n",
            "|       Hispanic| 2037|\n",
            "|          Other| 1506|\n",
            "|          Asian|  641|\n",
            "+---------------+-----+\n",
            "\n",
            "+---------------+-----+\n",
            "|         gender|count|\n",
            "+---------------+-----+\n",
            "|         Female|53575|\n",
            "|           Male|45917|\n",
            "|Unknown/Invalid|    1|\n",
            "+---------------+-----+\n",
            "\n",
            "+--------+-----+\n",
            "|     age|count|\n",
            "+--------+-----+\n",
            "| [70-80)|25469|\n",
            "| [60-70)|21988|\n",
            "| [50-60)|16895|\n",
            "| [80-90)|16800|\n",
            "| [40-50)| 9465|\n",
            "| [30-40)| 3699|\n",
            "|[90-100)| 2724|\n",
            "| [20-30)| 1611|\n",
            "| [10-20)|  682|\n",
            "|  [0-10)|  160|\n",
            "+--------+-----+\n",
            "\n",
            "+-------------+-----+\n",
            "|max_glu_serum|count|\n",
            "+-------------+-----+\n",
            "|         None|94203|\n",
            "|         Norm| 2571|\n",
            "|         >200| 1466|\n",
            "|         >300| 1253|\n",
            "+-------------+-----+\n",
            "\n",
            "+---------+-----+\n",
            "|A1Cresult|count|\n",
            "+---------+-----+\n",
            "|     None|82897|\n",
            "|       >8| 7961|\n",
            "|     Norm| 4905|\n",
            "|       >7| 3730|\n",
            "+---------+-----+\n",
            "\n",
            "+---------+-----+\n",
            "|metformin|count|\n",
            "+---------+-----+\n",
            "|       No|79972|\n",
            "|   Steady|17920|\n",
            "|       Up| 1039|\n",
            "|     Down|  562|\n",
            "+---------+-----+\n",
            "\n",
            "+-----------+-----+\n",
            "|repaglinide|count|\n",
            "+-----------+-----+\n",
            "|         No|97964|\n",
            "|     Steady| 1375|\n",
            "|         Up|  109|\n",
            "|       Down|   45|\n",
            "+-----------+-----+\n",
            "\n",
            "+-----------+-----+\n",
            "|nateglinide|count|\n",
            "+-----------+-----+\n",
            "|         No|98797|\n",
            "|     Steady|  662|\n",
            "|         Up|   23|\n",
            "|       Down|   11|\n",
            "+-----------+-----+\n",
            "\n",
            "+--------------+-----+\n",
            "|chlorpropamide|count|\n",
            "+--------------+-----+\n",
            "|            No|99408|\n",
            "|        Steady|   78|\n",
            "|            Up|    6|\n",
            "|          Down|    1|\n",
            "+--------------+-----+\n",
            "\n",
            "+-----------+-----+\n",
            "|glimepiride|count|\n",
            "+-----------+-----+\n",
            "|         No|94459|\n",
            "|     Steady| 4527|\n",
            "|         Up|  321|\n",
            "|       Down|  186|\n",
            "+-----------+-----+\n",
            "\n",
            "+-------------+-----+\n",
            "|acetohexamide|count|\n",
            "+-------------+-----+\n",
            "|           No|99492|\n",
            "|       Steady|    1|\n",
            "+-------------+-----+\n",
            "\n",
            "+---------+-----+\n",
            "|glipizide|count|\n",
            "+---------+-----+\n",
            "|       No|87093|\n",
            "|   Steady|11102|\n",
            "|       Up|  754|\n",
            "|     Down|  544|\n",
            "+---------+-----+\n",
            "\n",
            "+---------+-----+\n",
            "|glyburide|count|\n",
            "+---------+-----+\n",
            "|       No|89114|\n",
            "|   Steady| 9039|\n",
            "|       Up|  794|\n",
            "|     Down|  546|\n",
            "+---------+-----+\n",
            "\n",
            "+-----------+-----+\n",
            "|tolbutamide|count|\n",
            "+-----------+-----+\n",
            "|         No|99471|\n",
            "|     Steady|   22|\n",
            "+-----------+-----+\n",
            "\n",
            "+------------+-----+\n",
            "|pioglitazone|count|\n",
            "+------------+-----+\n",
            "|          No|92316|\n",
            "|      Steady| 6830|\n",
            "|          Up|  230|\n",
            "|        Down|  117|\n",
            "+------------+-----+\n",
            "\n",
            "+-------------+-----+\n",
            "|rosiglitazone|count|\n",
            "+-------------+-----+\n",
            "|           No|93266|\n",
            "|       Steady| 5968|\n",
            "|           Up|  175|\n",
            "|         Down|   84|\n",
            "+-------------+-----+\n",
            "\n",
            "+--------+-----+\n",
            "|acarbose|count|\n",
            "+--------+-----+\n",
            "|      No|99191|\n",
            "|  Steady|  289|\n",
            "|      Up|   10|\n",
            "|    Down|    3|\n",
            "+--------+-----+\n",
            "\n",
            "+--------+-----+\n",
            "|miglitol|count|\n",
            "+--------+-----+\n",
            "|      No|99455|\n",
            "|  Steady|   31|\n",
            "|    Down|    5|\n",
            "|      Up|    2|\n",
            "+--------+-----+\n",
            "\n",
            "+------------+-----+\n",
            "|troglitazone|count|\n",
            "+------------+-----+\n",
            "|          No|99490|\n",
            "|      Steady|    3|\n",
            "+------------+-----+\n",
            "\n",
            "+----------+-----+\n",
            "|tolazamide|count|\n",
            "+----------+-----+\n",
            "|        No|99454|\n",
            "|    Steady|   38|\n",
            "|        Up|    1|\n",
            "+----------+-----+\n",
            "\n",
            "+-------+-----+\n",
            "|examide|count|\n",
            "+-------+-----+\n",
            "|     No|99493|\n",
            "+-------+-----+\n",
            "\n",
            "+-----------+-----+\n",
            "|citoglipton|count|\n",
            "+-----------+-----+\n",
            "|         No|99493|\n",
            "+-----------+-----+\n",
            "\n",
            "+-------+-----+\n",
            "|insulin|count|\n",
            "+-------+-----+\n",
            "|     No|46496|\n",
            "| Steady|29902|\n",
            "|   Down|12039|\n",
            "|     Up|11056|\n",
            "+-------+-----+\n",
            "\n",
            "+-------------------+-----+\n",
            "|glyburide-metformin|count|\n",
            "+-------------------+-----+\n",
            "|                 No|98813|\n",
            "|             Steady|  671|\n",
            "|                 Up|    6|\n",
            "|               Down|    3|\n",
            "+-------------------+-----+\n",
            "\n",
            "+-------------------+-----+\n",
            "|glipizide-metformin|count|\n",
            "+-------------------+-----+\n",
            "|                 No|99480|\n",
            "|             Steady|   13|\n",
            "+-------------------+-----+\n",
            "\n",
            "+------------------------+-----+\n",
            "|glimepiride-pioglitazone|count|\n",
            "+------------------------+-----+\n",
            "|                      No|99492|\n",
            "|                  Steady|    1|\n",
            "+------------------------+-----+\n",
            "\n",
            "+-----------------------+-----+\n",
            "|metformin-rosiglitazone|count|\n",
            "+-----------------------+-----+\n",
            "|                     No|99493|\n",
            "+-----------------------+-----+\n",
            "\n",
            "+----------------------+-----+\n",
            "|metformin-pioglitazone|count|\n",
            "+----------------------+-----+\n",
            "|                    No|99492|\n",
            "|                Steady|    1|\n",
            "+----------------------+-----+\n",
            "\n",
            "+------+-----+\n",
            "|change|count|\n",
            "+------+-----+\n",
            "|    No|53582|\n",
            "|    Ch|45911|\n",
            "+------+-----+\n",
            "\n",
            "+-----------+-----+\n",
            "|diabetesMed|count|\n",
            "+-----------+-----+\n",
            "|        Yes|76492|\n",
            "|         No|23001|\n",
            "+-----------+-----+\n",
            "\n",
            "+----------+-----+\n",
            "|readmitted|count|\n",
            "+----------+-----+\n",
            "|        NO|53317|\n",
            "|       >30|35007|\n",
            "|       <30|11169|\n",
            "+----------+-----+\n",
            "\n"
          ]
        }
      ]
    },
    {
      "cell_type": "code",
      "source": [
        "# Admission type, discharge disposition, and admission source are categorical columns that have already been indexed.\n",
        "# See if any of these correlate to the target\n",
        "target = 'readmitted'\n",
        "cat_cols = ['admission_type_id','discharge_disposition_id','admission_source_id']\n",
        "for c in cat_cols:\n",
        "  df.groupBy(c).pivot(target).count().orderBy(c).show(30)"
      ],
      "metadata": {
        "colab": {
          "base_uri": "https://localhost:8080/"
        },
        "id": "73_9Gx3hpM9J",
        "outputId": "813f2641-14c3-41d6-ff05-c4c5fcd621cd"
      },
      "execution_count": 18,
      "outputs": [
        {
          "output_type": "stream",
          "name": "stdout",
          "text": [
            "+-----------------+----+-----+-----+\n",
            "|admission_type_id| <30|  >30|   NO|\n",
            "+-----------------+----+-----+-----+\n",
            "|                1|6122|19003|27775|\n",
            "|                2|2009| 6345| 9432|\n",
            "|                3|1940| 5666|10902|\n",
            "|                4|   1|    2|    7|\n",
            "|                5| 491| 1708| 2528|\n",
            "|                6| 579| 2200| 2446|\n",
            "|                7|null| null|   20|\n",
            "|                8|  27|   83|  207|\n",
            "+-----------------+----+-----+-----+\n",
            "\n",
            "+------------------------+----+-----+-----+\n",
            "|discharge_disposition_id| <30|  >30|   NO|\n",
            "+------------------------+----+-----+-----+\n",
            "|                       1|5515|21186|32067|\n",
            "|                       2| 333|  659| 1069|\n",
            "|                       3|1990| 4818| 6806|\n",
            "|                       4|  97|  270|  398|\n",
            "|                       5| 238|  339|  566|\n",
            "|                       6|1622| 5295| 5781|\n",
            "|                       7|  90|  219|  302|\n",
            "|                       8|  15|   38|   54|\n",
            "|                       9|   9|    2|   10|\n",
            "|                      10|null|    4|    2|\n",
            "|                      11|null| null| 1608|\n",
            "|                      12|   2| null|    1|\n",
            "|                      13|  19|   36|  342|\n",
            "|                      14|  24|    7|  338|\n",
            "|                      15|  28|   18|   17|\n",
            "|                      16|null|    6|    5|\n",
            "|                      17|null|    5|    9|\n",
            "|                      18| 457| 1027| 2189|\n",
            "|                      19|null| null|    8|\n",
            "|                      20|null| null|    2|\n",
            "|                      22| 552|  514|  915|\n",
            "|                      23|  30|  143|  233|\n",
            "|                      24|   7|   16|   25|\n",
            "|                      25|  90|  370|  513|\n",
            "|                      27|null|    1|    4|\n",
            "|                      28|  51|   34|   53|\n",
            "+------------------------+----+-----+-----+\n",
            "\n",
            "+-------------------+----+-----+-----+\n",
            "|admission_source_id| <30|  >30|   NO|\n",
            "+-------------------+----+-----+-----+\n",
            "|                  1|3078| 9492|16285|\n",
            "|                  2| 109|  298|  635|\n",
            "|                  3|  29|   58|  100|\n",
            "|                  4| 295|  648| 2043|\n",
            "|                  5| 100|  234|  514|\n",
            "|                  6| 179|  359| 1451|\n",
            "|                  7|6644|21394|28594|\n",
            "|                  8|   2|    4|   10|\n",
            "|                  9|  10|    6|   38|\n",
            "|                 10|null|    2|    5|\n",
            "|                 11|null| null|    2|\n",
            "|                 13|null| null|    1|\n",
            "|                 14|null| null|    2|\n",
            "|                 17| 699| 2428| 3571|\n",
            "|                 20|  22|   81|   57|\n",
            "|                 22|   2|    3|    7|\n",
            "|                 25|null| null|    2|\n",
            "+-------------------+----+-----+-----+\n",
            "\n"
          ]
        }
      ]
    },
    {
      "cell_type": "code",
      "source": [
        "for c in cat_cols:\n",
        "  df.groupBy(c).count().orderBy('count').show(30)"
      ],
      "metadata": {
        "colab": {
          "base_uri": "https://localhost:8080/"
        },
        "id": "NlyI1oxXqvAS",
        "outputId": "24876d41-cb3c-4abd-92fe-b16aa7c69f3e"
      },
      "execution_count": 19,
      "outputs": [
        {
          "output_type": "stream",
          "name": "stdout",
          "text": [
            "+-----------------+-----+\n",
            "|admission_type_id|count|\n",
            "+-----------------+-----+\n",
            "|                4|   10|\n",
            "|                7|   20|\n",
            "|                8|  317|\n",
            "|                5| 4727|\n",
            "|                6| 5225|\n",
            "|                2|17786|\n",
            "|                3|18508|\n",
            "|                1|52900|\n",
            "+-----------------+-----+\n",
            "\n",
            "+------------------------+-----+\n",
            "|discharge_disposition_id|count|\n",
            "+------------------------+-----+\n",
            "|                      20|    2|\n",
            "|                      12|    3|\n",
            "|                      27|    5|\n",
            "|                      10|    6|\n",
            "|                      19|    8|\n",
            "|                      16|   11|\n",
            "|                      17|   14|\n",
            "|                       9|   21|\n",
            "|                      24|   48|\n",
            "|                      15|   63|\n",
            "|                       8|  107|\n",
            "|                      28|  138|\n",
            "|                      14|  369|\n",
            "|                      13|  397|\n",
            "|                      23|  406|\n",
            "|                       7|  611|\n",
            "|                       4|  765|\n",
            "|                      25|  973|\n",
            "|                       5| 1143|\n",
            "|                      11| 1608|\n",
            "|                      22| 1981|\n",
            "|                       2| 2061|\n",
            "|                      18| 3673|\n",
            "|                       6|12698|\n",
            "|                       3|13614|\n",
            "|                       1|58768|\n",
            "+------------------------+-----+\n",
            "\n",
            "+-------------------+-----+\n",
            "|admission_source_id|count|\n",
            "+-------------------+-----+\n",
            "|                 13|    1|\n",
            "|                 14|    2|\n",
            "|                 11|    2|\n",
            "|                 25|    2|\n",
            "|                 10|    7|\n",
            "|                 22|   12|\n",
            "|                  8|   16|\n",
            "|                  9|   54|\n",
            "|                 20|  160|\n",
            "|                  3|  187|\n",
            "|                  5|  848|\n",
            "|                  2| 1042|\n",
            "|                  6| 1989|\n",
            "|                  4| 2986|\n",
            "|                 17| 6698|\n",
            "|                  1|28855|\n",
            "|                  7|56632|\n",
            "+-------------------+-----+\n",
            "\n"
          ]
        }
      ]
    },
    {
      "cell_type": "markdown",
      "source": [
        "The dataset includes information on the ID mappings for admission type, admission source, and discharge disposition. Count how many rows map to NULL in these categories."
      ],
      "metadata": {
        "id": "l7Qq-4LhsghJ"
      }
    },
    {
      "cell_type": "code",
      "source": [
        "df.filter(df.admission_type_id == 6).count()"
      ],
      "metadata": {
        "colab": {
          "base_uri": "https://localhost:8080/"
        },
        "id": "cKHYpLLJr22b",
        "outputId": "6f0bb9b4-37ad-4776-9372-393fa6b50f6c"
      },
      "execution_count": 20,
      "outputs": [
        {
          "output_type": "execute_result",
          "data": {
            "text/plain": [
              "5225"
            ]
          },
          "metadata": {},
          "execution_count": 20
        }
      ]
    },
    {
      "cell_type": "code",
      "source": [
        "df.filter(df.discharge_disposition_id == 18).count()"
      ],
      "metadata": {
        "colab": {
          "base_uri": "https://localhost:8080/"
        },
        "id": "czAm0nEmsA9m",
        "outputId": "b9646799-cfba-45fd-bd30-0356dfb34d5f"
      },
      "execution_count": 21,
      "outputs": [
        {
          "output_type": "execute_result",
          "data": {
            "text/plain": [
              "3673"
            ]
          },
          "metadata": {},
          "execution_count": 21
        }
      ]
    },
    {
      "cell_type": "code",
      "source": [
        "df.filter(df.admission_source_id == 17).count()"
      ],
      "metadata": {
        "colab": {
          "base_uri": "https://localhost:8080/"
        },
        "id": "UBwvaMP_sIae",
        "outputId": "73c39309-ac68-49e0-9b92-66518e3393f6"
      },
      "execution_count": 22,
      "outputs": [
        {
          "output_type": "execute_result",
          "data": {
            "text/plain": [
              "6698"
            ]
          },
          "metadata": {},
          "execution_count": 22
        }
      ]
    },
    {
      "cell_type": "code",
      "source": [
        "df = df.filter(df.admission_type_id != 6)\n",
        "df = df.filter(df.discharge_disposition_id != 18)\n",
        "df = df.filter(df.admission_source_id != 17)\n",
        "df.count()"
      ],
      "metadata": {
        "colab": {
          "base_uri": "https://localhost:8080/"
        },
        "id": "R6qIFKmlv4LY",
        "outputId": "8f4a9781-f713-463a-92d0-6d9e7c378141"
      },
      "execution_count": 23,
      "outputs": [
        {
          "output_type": "execute_result",
          "data": {
            "text/plain": [
              "86833"
            ]
          },
          "metadata": {},
          "execution_count": 23
        }
      ]
    },
    {
      "cell_type": "code",
      "source": [
        "# Drop rows with outliers and columns that only contain a single value\n",
        "thresh = 100\n",
        "for c in str_cols + cat_cols:\n",
        "  if c in df.columns:\n",
        "    grouped_df = df.groupBy(c).count().collect()\n",
        "    unique = len(grouped_df)\n",
        "\n",
        "    for row in grouped_df:\n",
        "      row_dict = row.asDict(True)\n",
        "      val = row_dict[c]\n",
        "      count = row_dict['count']\n",
        "      if count < thresh:\n",
        "        df = df.filter(df[c] != val)\n",
        "        unique -= 1\n",
        "\n",
        "    if unique == 1:\n",
        "      df = df.drop(c)\n",
        "  print(c)\n",
        "\n",
        "df.count()"
      ],
      "metadata": {
        "colab": {
          "base_uri": "https://localhost:8080/"
        },
        "id": "yzI61pKqwaHK",
        "outputId": "0e73f102-6493-4af2-9324-1ad89d4e5bac"
      },
      "execution_count": 24,
      "outputs": [
        {
          "output_type": "stream",
          "name": "stdout",
          "text": [
            "race\n",
            "gender\n",
            "age\n",
            "max_glu_serum\n",
            "A1Cresult\n",
            "metformin\n",
            "repaglinide\n",
            "nateglinide\n",
            "chlorpropamide\n",
            "glimepiride\n",
            "acetohexamide\n",
            "glipizide\n",
            "glyburide\n",
            "tolbutamide\n",
            "pioglitazone\n",
            "rosiglitazone\n",
            "acarbose\n",
            "miglitol\n",
            "troglitazone\n",
            "tolazamide\n",
            "examide\n",
            "citoglipton\n",
            "insulin\n",
            "glyburide-metformin\n",
            "glipizide-metformin\n",
            "glimepiride-pioglitazone\n",
            "metformin-rosiglitazone\n",
            "metformin-pioglitazone\n",
            "change\n",
            "diabetesMed\n",
            "readmitted\n",
            "admission_type_id\n",
            "discharge_disposition_id\n",
            "admission_source_id\n"
          ]
        },
        {
          "output_type": "execute_result",
          "data": {
            "text/plain": [
              "85905"
            ]
          },
          "metadata": {},
          "execution_count": 24
        }
      ]
    },
    {
      "cell_type": "code",
      "source": [
        "len(df.columns)"
      ],
      "metadata": {
        "colab": {
          "base_uri": "https://localhost:8080/"
        },
        "id": "_zE4NxzBeCR2",
        "outputId": "1fcee7ac-fad8-4170-bfa8-38f4dcd58d1f"
      },
      "execution_count": 25,
      "outputs": [
        {
          "output_type": "execute_result",
          "data": {
            "text/plain": [
              "30"
            ]
          },
          "metadata": {},
          "execution_count": 25
        }
      ]
    },
    {
      "cell_type": "markdown",
      "source": [
        "## Data visualizations"
      ],
      "metadata": {
        "id": "m71fGKM9s0rL"
      }
    },
    {
      "cell_type": "code",
      "source": [
        "df.printSchema()"
      ],
      "metadata": {
        "colab": {
          "base_uri": "https://localhost:8080/"
        },
        "id": "BiQCSX3wtekL",
        "outputId": "20aa8ad2-a328-4c0f-c7be-91e23f7ad9c8"
      },
      "execution_count": 26,
      "outputs": [
        {
          "output_type": "stream",
          "name": "stdout",
          "text": [
            "root\n",
            " |-- race: string (nullable = true)\n",
            " |-- gender: string (nullable = true)\n",
            " |-- age: string (nullable = true)\n",
            " |-- admission_type_id: integer (nullable = true)\n",
            " |-- discharge_disposition_id: integer (nullable = true)\n",
            " |-- admission_source_id: integer (nullable = true)\n",
            " |-- time_in_hospital: integer (nullable = true)\n",
            " |-- num_lab_procedures: integer (nullable = true)\n",
            " |-- num_procedures: integer (nullable = true)\n",
            " |-- num_medications: integer (nullable = true)\n",
            " |-- number_outpatient: integer (nullable = true)\n",
            " |-- number_emergency: integer (nullable = true)\n",
            " |-- number_inpatient: integer (nullable = true)\n",
            " |-- number_diagnoses: integer (nullable = true)\n",
            " |-- max_glu_serum: string (nullable = true)\n",
            " |-- A1Cresult: string (nullable = true)\n",
            " |-- metformin: string (nullable = true)\n",
            " |-- repaglinide: string (nullable = true)\n",
            " |-- nateglinide: string (nullable = true)\n",
            " |-- glimepiride: string (nullable = true)\n",
            " |-- glipizide: string (nullable = true)\n",
            " |-- glyburide: string (nullable = true)\n",
            " |-- pioglitazone: string (nullable = true)\n",
            " |-- rosiglitazone: string (nullable = true)\n",
            " |-- acarbose: string (nullable = true)\n",
            " |-- insulin: string (nullable = true)\n",
            " |-- glyburide-metformin: string (nullable = true)\n",
            " |-- change: string (nullable = true)\n",
            " |-- diabetesMed: string (nullable = true)\n",
            " |-- readmitted: string (nullable = true)\n",
            "\n"
          ]
        }
      ]
    },
    {
      "cell_type": "markdown",
      "source": [
        "Graph A1Cresult, insulin, and diabetesMed to show any correlation with readmission"
      ],
      "metadata": {
        "id": "Nqm0lTPgs9ur"
      }
    },
    {
      "cell_type": "code",
      "source": [
        "import pandas as pd\n",
        "import matplotlib.pyplot as plt\n",
        "import numpy as np\n",
        "plot_df1 = df.groupBy('A1Cresult').pivot('readmitted').count().fillna(0).toPandas()\n",
        "plot_df1"
      ],
      "metadata": {
        "colab": {
          "base_uri": "https://localhost:8080/",
          "height": 175
        },
        "id": "4zSXjNDls364",
        "outputId": "0924bf4c-5af2-42fd-d3db-d9336597267b"
      },
      "execution_count": 27,
      "outputs": [
        {
          "output_type": "execute_result",
          "data": {
            "text/plain": [
              "  A1Cresult   <30    >30     NO\n",
              "0      None  8142  25317  37702\n",
              "1        >8   679   2398   3823\n",
              "2      Norm   427   1455   2622\n",
              "3        >7   334   1151   1855"
            ],
            "text/html": [
              "\n",
              "  <div id=\"df-dc6af321-ae2e-485f-843a-e29fd3a4ea5a\">\n",
              "    <div class=\"colab-df-container\">\n",
              "      <div>\n",
              "<style scoped>\n",
              "    .dataframe tbody tr th:only-of-type {\n",
              "        vertical-align: middle;\n",
              "    }\n",
              "\n",
              "    .dataframe tbody tr th {\n",
              "        vertical-align: top;\n",
              "    }\n",
              "\n",
              "    .dataframe thead th {\n",
              "        text-align: right;\n",
              "    }\n",
              "</style>\n",
              "<table border=\"1\" class=\"dataframe\">\n",
              "  <thead>\n",
              "    <tr style=\"text-align: right;\">\n",
              "      <th></th>\n",
              "      <th>A1Cresult</th>\n",
              "      <th>&lt;30</th>\n",
              "      <th>&gt;30</th>\n",
              "      <th>NO</th>\n",
              "    </tr>\n",
              "  </thead>\n",
              "  <tbody>\n",
              "    <tr>\n",
              "      <th>0</th>\n",
              "      <td>None</td>\n",
              "      <td>8142</td>\n",
              "      <td>25317</td>\n",
              "      <td>37702</td>\n",
              "    </tr>\n",
              "    <tr>\n",
              "      <th>1</th>\n",
              "      <td>&gt;8</td>\n",
              "      <td>679</td>\n",
              "      <td>2398</td>\n",
              "      <td>3823</td>\n",
              "    </tr>\n",
              "    <tr>\n",
              "      <th>2</th>\n",
              "      <td>Norm</td>\n",
              "      <td>427</td>\n",
              "      <td>1455</td>\n",
              "      <td>2622</td>\n",
              "    </tr>\n",
              "    <tr>\n",
              "      <th>3</th>\n",
              "      <td>&gt;7</td>\n",
              "      <td>334</td>\n",
              "      <td>1151</td>\n",
              "      <td>1855</td>\n",
              "    </tr>\n",
              "  </tbody>\n",
              "</table>\n",
              "</div>\n",
              "      <button class=\"colab-df-convert\" onclick=\"convertToInteractive('df-dc6af321-ae2e-485f-843a-e29fd3a4ea5a')\"\n",
              "              title=\"Convert this dataframe to an interactive table.\"\n",
              "              style=\"display:none;\">\n",
              "        \n",
              "  <svg xmlns=\"http://www.w3.org/2000/svg\" height=\"24px\"viewBox=\"0 0 24 24\"\n",
              "       width=\"24px\">\n",
              "    <path d=\"M0 0h24v24H0V0z\" fill=\"none\"/>\n",
              "    <path d=\"M18.56 5.44l.94 2.06.94-2.06 2.06-.94-2.06-.94-.94-2.06-.94 2.06-2.06.94zm-11 1L8.5 8.5l.94-2.06 2.06-.94-2.06-.94L8.5 2.5l-.94 2.06-2.06.94zm10 10l.94 2.06.94-2.06 2.06-.94-2.06-.94-.94-2.06-.94 2.06-2.06.94z\"/><path d=\"M17.41 7.96l-1.37-1.37c-.4-.4-.92-.59-1.43-.59-.52 0-1.04.2-1.43.59L10.3 9.45l-7.72 7.72c-.78.78-.78 2.05 0 2.83L4 21.41c.39.39.9.59 1.41.59.51 0 1.02-.2 1.41-.59l7.78-7.78 2.81-2.81c.8-.78.8-2.07 0-2.86zM5.41 20L4 18.59l7.72-7.72 1.47 1.35L5.41 20z\"/>\n",
              "  </svg>\n",
              "      </button>\n",
              "      \n",
              "  <style>\n",
              "    .colab-df-container {\n",
              "      display:flex;\n",
              "      flex-wrap:wrap;\n",
              "      gap: 12px;\n",
              "    }\n",
              "\n",
              "    .colab-df-convert {\n",
              "      background-color: #E8F0FE;\n",
              "      border: none;\n",
              "      border-radius: 50%;\n",
              "      cursor: pointer;\n",
              "      display: none;\n",
              "      fill: #1967D2;\n",
              "      height: 32px;\n",
              "      padding: 0 0 0 0;\n",
              "      width: 32px;\n",
              "    }\n",
              "\n",
              "    .colab-df-convert:hover {\n",
              "      background-color: #E2EBFA;\n",
              "      box-shadow: 0px 1px 2px rgba(60, 64, 67, 0.3), 0px 1px 3px 1px rgba(60, 64, 67, 0.15);\n",
              "      fill: #174EA6;\n",
              "    }\n",
              "\n",
              "    [theme=dark] .colab-df-convert {\n",
              "      background-color: #3B4455;\n",
              "      fill: #D2E3FC;\n",
              "    }\n",
              "\n",
              "    [theme=dark] .colab-df-convert:hover {\n",
              "      background-color: #434B5C;\n",
              "      box-shadow: 0px 1px 3px 1px rgba(0, 0, 0, 0.15);\n",
              "      filter: drop-shadow(0px 1px 2px rgba(0, 0, 0, 0.3));\n",
              "      fill: #FFFFFF;\n",
              "    }\n",
              "  </style>\n",
              "\n",
              "      <script>\n",
              "        const buttonEl =\n",
              "          document.querySelector('#df-dc6af321-ae2e-485f-843a-e29fd3a4ea5a button.colab-df-convert');\n",
              "        buttonEl.style.display =\n",
              "          google.colab.kernel.accessAllowed ? 'block' : 'none';\n",
              "\n",
              "        async function convertToInteractive(key) {\n",
              "          const element = document.querySelector('#df-dc6af321-ae2e-485f-843a-e29fd3a4ea5a');\n",
              "          const dataTable =\n",
              "            await google.colab.kernel.invokeFunction('convertToInteractive',\n",
              "                                                     [key], {});\n",
              "          if (!dataTable) return;\n",
              "\n",
              "          const docLinkHtml = 'Like what you see? Visit the ' +\n",
              "            '<a target=\"_blank\" href=https://colab.research.google.com/notebooks/data_table.ipynb>data table notebook</a>'\n",
              "            + ' to learn more about interactive tables.';\n",
              "          element.innerHTML = '';\n",
              "          dataTable['output_type'] = 'display_data';\n",
              "          await google.colab.output.renderOutput(dataTable, element);\n",
              "          const docLink = document.createElement('div');\n",
              "          docLink.innerHTML = docLinkHtml;\n",
              "          element.appendChild(docLink);\n",
              "        }\n",
              "      </script>\n",
              "    </div>\n",
              "  </div>\n",
              "  "
            ]
          },
          "metadata": {},
          "execution_count": 27
        }
      ]
    },
    {
      "cell_type": "code",
      "source": [
        "fig,ax = plt.subplots()\n",
        "labels = list(plot_df1['A1Cresult'])\n",
        "less30 = list(plot_df1['<30'])\n",
        "greater30 = list(plot_df1['>30'])\n",
        "no = list(plot_df1['NO'])\n",
        "\n",
        "x = np.arange(len(labels))\n",
        "width = 0.3\n",
        "\n",
        "rects1 = ax.bar(x-0.3,no,width,label='NO')\n",
        "rects2 = ax.bar(x,greater30,width,label='>30')\n",
        "rects3 = ax.bar(x+0.3,less30,width,label='<30')\n",
        "\n",
        "ax.set_ylabel('Count')\n",
        "ax.set_title('Readmission rates by A1C Level')\n",
        "ax.set_xticks(x)\n",
        "ax.set_xticklabels(labels)\n",
        "ax.legend()\n",
        "\n",
        "fig.tight_layout()\n",
        "\n",
        "plt.savefig('a1clevel')\n",
        "plt.show()"
      ],
      "metadata": {
        "colab": {
          "base_uri": "https://localhost:8080/",
          "height": 297
        },
        "id": "H3dYTvOVvNs6",
        "outputId": "eaf2804b-43c8-43fc-cfaf-d6f6fcab89b5"
      },
      "execution_count": 50,
      "outputs": [
        {
          "output_type": "display_data",
          "data": {
            "text/plain": [
              "<Figure size 432x288 with 1 Axes>"
            ],
            "image/png": "[encoded data removed]"
          },
          "metadata": {
            "needs_background": "light"
          }
        }
      ]
    },
    {
      "cell_type": "code",
      "source": [
        "plot_df2 = df.groupBy('insulin').pivot('readmitted').count().fillna(0).toPandas()\n",
        "plot_df2"
      ],
      "metadata": {
        "colab": {
          "base_uri": "https://localhost:8080/",
          "height": 175
        },
        "id": "E5UPqurJzR-q",
        "outputId": "81353c12-13d5-4dad-a357-25cdbfa34957"
      },
      "execution_count": 29,
      "outputs": [
        {
          "output_type": "execute_result",
          "data": {
            "text/plain": [
              "  insulin   <30    >30     NO\n",
              "0  Steady  2953   9175  14639\n",
              "1      Up  1288   3847   4820\n",
              "2      No  3840  13095  21527\n",
              "3    Down  1501   4204   5016"
            ],
            "text/html": [
              "\n",
              "  <div id=\"df-658d1eaa-160e-4976-aca9-49dace418e6a\">\n",
              "    <div class=\"colab-df-container\">\n",
              "      <div>\n",
              "<style scoped>\n",
              "    .dataframe tbody tr th:only-of-type {\n",
              "        vertical-align: middle;\n",
              "    }\n",
              "\n",
              "    .dataframe tbody tr th {\n",
              "        vertical-align: top;\n",
              "    }\n",
              "\n",
              "    .dataframe thead th {\n",
              "        text-align: right;\n",
              "    }\n",
              "</style>\n",
              "<table border=\"1\" class=\"dataframe\">\n",
              "  <thead>\n",
              "    <tr style=\"text-align: right;\">\n",
              "      <th></th>\n",
              "      <th>insulin</th>\n",
              "      <th>&lt;30</th>\n",
              "      <th>&gt;30</th>\n",
              "      <th>NO</th>\n",
              "    </tr>\n",
              "  </thead>\n",
              "  <tbody>\n",
              "    <tr>\n",
              "      <th>0</th>\n",
              "      <td>Steady</td>\n",
              "      <td>2953</td>\n",
              "      <td>9175</td>\n",
              "      <td>14639</td>\n",
              "    </tr>\n",
              "    <tr>\n",
              "      <th>1</th>\n",
              "      <td>Up</td>\n",
              "      <td>1288</td>\n",
              "      <td>3847</td>\n",
              "      <td>4820</td>\n",
              "    </tr>\n",
              "    <tr>\n",
              "      <th>2</th>\n",
              "      <td>No</td>\n",
              "      <td>3840</td>\n",
              "      <td>13095</td>\n",
              "      <td>21527</td>\n",
              "    </tr>\n",
              "    <tr>\n",
              "      <th>3</th>\n",
              "      <td>Down</td>\n",
              "      <td>1501</td>\n",
              "      <td>4204</td>\n",
              "      <td>5016</td>\n",
              "    </tr>\n",
              "  </tbody>\n",
              "</table>\n",
              "</div>\n",
              "      <button class=\"colab-df-convert\" onclick=\"convertToInteractive('df-658d1eaa-160e-4976-aca9-49dace418e6a')\"\n",
              "              title=\"Convert this dataframe to an interactive table.\"\n",
              "              style=\"display:none;\">\n",
              "        \n",
              "  <svg xmlns=\"http://www.w3.org/2000/svg\" height=\"24px\"viewBox=\"0 0 24 24\"\n",
              "       width=\"24px\">\n",
              "    <path d=\"M0 0h24v24H0V0z\" fill=\"none\"/>\n",
              "    <path d=\"M18.56 5.44l.94 2.06.94-2.06 2.06-.94-2.06-.94-.94-2.06-.94 2.06-2.06.94zm-11 1L8.5 8.5l.94-2.06 2.06-.94-2.06-.94L8.5 2.5l-.94 2.06-2.06.94zm10 10l.94 2.06.94-2.06 2.06-.94-2.06-.94-.94-2.06-.94 2.06-2.06.94z\"/><path d=\"M17.41 7.96l-1.37-1.37c-.4-.4-.92-.59-1.43-.59-.52 0-1.04.2-1.43.59L10.3 9.45l-7.72 7.72c-.78.78-.78 2.05 0 2.83L4 21.41c.39.39.9.59 1.41.59.51 0 1.02-.2 1.41-.59l7.78-7.78 2.81-2.81c.8-.78.8-2.07 0-2.86zM5.41 20L4 18.59l7.72-7.72 1.47 1.35L5.41 20z\"/>\n",
              "  </svg>\n",
              "      </button>\n",
              "      \n",
              "  <style>\n",
              "    .colab-df-container {\n",
              "      display:flex;\n",
              "      flex-wrap:wrap;\n",
              "      gap: 12px;\n",
              "    }\n",
              "\n",
              "    .colab-df-convert {\n",
              "      background-color: #E8F0FE;\n",
              "      border: none;\n",
              "      border-radius: 50%;\n",
              "      cursor: pointer;\n",
              "      display: none;\n",
              "      fill: #1967D2;\n",
              "      height: 32px;\n",
              "      padding: 0 0 0 0;\n",
              "      width: 32px;\n",
              "    }\n",
              "\n",
              "    .colab-df-convert:hover {\n",
              "      background-color: #E2EBFA;\n",
              "      box-shadow: 0px 1px 2px rgba(60, 64, 67, 0.3), 0px 1px 3px 1px rgba(60, 64, 67, 0.15);\n",
              "      fill: #174EA6;\n",
              "    }\n",
              "\n",
              "    [theme=dark] .colab-df-convert {\n",
              "      background-color: #3B4455;\n",
              "      fill: #D2E3FC;\n",
              "    }\n",
              "\n",
              "    [theme=dark] .colab-df-convert:hover {\n",
              "      background-color: #434B5C;\n",
              "      box-shadow: 0px 1px 3px 1px rgba(0, 0, 0, 0.15);\n",
              "      filter: drop-shadow(0px 1px 2px rgba(0, 0, 0, 0.3));\n",
              "      fill: #FFFFFF;\n",
              "    }\n",
              "  </style>\n",
              "\n",
              "      <script>\n",
              "        const buttonEl =\n",
              "          document.querySelector('#df-658d1eaa-160e-4976-aca9-49dace418e6a button.colab-df-convert');\n",
              "        buttonEl.style.display =\n",
              "          google.colab.kernel.accessAllowed ? 'block' : 'none';\n",
              "\n",
              "        async function convertToInteractive(key) {\n",
              "          const element = document.querySelector('#df-658d1eaa-160e-4976-aca9-49dace418e6a');\n",
              "          const dataTable =\n",
              "            await google.colab.kernel.invokeFunction('convertToInteractive',\n",
              "                                                     [key], {});\n",
              "          if (!dataTable) return;\n",
              "\n",
              "          const docLinkHtml = 'Like what you see? Visit the ' +\n",
              "            '<a target=\"_blank\" href=https://colab.research.google.com/notebooks/data_table.ipynb>data table notebook</a>'\n",
              "            + ' to learn more about interactive tables.';\n",
              "          element.innerHTML = '';\n",
              "          dataTable['output_type'] = 'display_data';\n",
              "          await google.colab.output.renderOutput(dataTable, element);\n",
              "          const docLink = document.createElement('div');\n",
              "          docLink.innerHTML = docLinkHtml;\n",
              "          element.appendChild(docLink);\n",
              "        }\n",
              "      </script>\n",
              "    </div>\n",
              "  </div>\n",
              "  "
            ]
          },
          "metadata": {},
          "execution_count": 29
        }
      ]
    },
    {
      "cell_type": "code",
      "source": [
        "fig,ax = plt.subplots()\n",
        "labels = list(plot_df2['insulin'])\n",
        "less30 = list(plot_df2['<30'])\n",
        "greater30 = list(plot_df2['>30'])\n",
        "no = list(plot_df2['NO'])\n",
        "\n",
        "x = np.arange(len(labels))\n",
        "width = 0.3\n",
        "\n",
        "rects1 = ax.bar(x-0.3,no,width,label='NO')\n",
        "rects2 = ax.bar(x,greater30,width,label='>30')\n",
        "rects3 = ax.bar(x+0.3,less30,width,label='<30')\n",
        "\n",
        "ax.set_ylabel('Count')\n",
        "ax.set_title('Readmission rates by insulin change')\n",
        "ax.set_xticks(x)\n",
        "ax.set_xticklabels(labels)\n",
        "ax.legend()\n",
        "\n",
        "fig.tight_layout()\n",
        "\n",
        "plt.savefig('insulin')\n",
        "plt.show()"
      ],
      "metadata": {
        "colab": {
          "base_uri": "https://localhost:8080/",
          "height": 297
        },
        "id": "CyYPQEZizak3",
        "outputId": "66ee0aaf-44f0-41aa-ecc6-5371043648af"
      },
      "execution_count": 51,
      "outputs": [
        {
          "output_type": "display_data",
          "data": {
            "text/plain": [
              "<Figure size 432x288 with 1 Axes>"
            ],
            "image/png": "[encoded data removed]"
          },
          "metadata": {
            "needs_background": "light"
          }
        }
      ]
    },
    {
      "cell_type": "code",
      "source": [
        "plot_df3 = df.groupBy('diabetesMed').pivot('readmitted').count().fillna(0).toPandas()\n",
        "plot_df3"
      ],
      "metadata": {
        "colab": {
          "base_uri": "https://localhost:8080/",
          "height": 112
        },
        "id": "sh8i32BGzwkZ",
        "outputId": "0f3eb06f-4af3-4c9f-a5c1-1132affdbd2a"
      },
      "execution_count": 54,
      "outputs": [
        {
          "output_type": "execute_result",
          "data": {
            "text/plain": [
              "  diabetesMed   <30    >30     NO\n",
              "0          No  1822   5949  11418\n",
              "1         Yes  7760  24372  34584"
            ],
            "text/html": [
              "\n",
              "  <div id=\"df-5443563b-97f1-45ee-8579-c15a6f70a985\">\n",
              "    <div class=\"colab-df-container\">\n",
              "      <div>\n",
              "<style scoped>\n",
              "    .dataframe tbody tr th:only-of-type {\n",
              "        vertical-align: middle;\n",
              "    }\n",
              "\n",
              "    .dataframe tbody tr th {\n",
              "        vertical-align: top;\n",
              "    }\n",
              "\n",
              "    .dataframe thead th {\n",
              "        text-align: right;\n",
              "    }\n",
              "</style>\n",
              "<table border=\"1\" class=\"dataframe\">\n",
              "  <thead>\n",
              "    <tr style=\"text-align: right;\">\n",
              "      <th></th>\n",
              "      <th>diabetesMed</th>\n",
              "      <th>&lt;30</th>\n",
              "      <th>&gt;30</th>\n",
              "      <th>NO</th>\n",
              "    </tr>\n",
              "  </thead>\n",
              "  <tbody>\n",
              "    <tr>\n",
              "      <th>0</th>\n",
              "      <td>No</td>\n",
              "      <td>1822</td>\n",
              "      <td>5949</td>\n",
              "      <td>11418</td>\n",
              "    </tr>\n",
              "    <tr>\n",
              "      <th>1</th>\n",
              "      <td>Yes</td>\n",
              "      <td>7760</td>\n",
              "      <td>24372</td>\n",
              "      <td>34584</td>\n",
              "    </tr>\n",
              "  </tbody>\n",
              "</table>\n",
              "</div>\n",
              "      <button class=\"colab-df-convert\" onclick=\"convertToInteractive('df-5443563b-97f1-45ee-8579-c15a6f70a985')\"\n",
              "              title=\"Convert this dataframe to an interactive table.\"\n",
              "              style=\"display:none;\">\n",
              "        \n",
              "  <svg xmlns=\"http://www.w3.org/2000/svg\" height=\"24px\"viewBox=\"0 0 24 24\"\n",
              "       width=\"24px\">\n",
              "    <path d=\"M0 0h24v24H0V0z\" fill=\"none\"/>\n",
              "    <path d=\"M18.56 5.44l.94 2.06.94-2.06 2.06-.94-2.06-.94-.94-2.06-.94 2.06-2.06.94zm-11 1L8.5 8.5l.94-2.06 2.06-.94-2.06-.94L8.5 2.5l-.94 2.06-2.06.94zm10 10l.94 2.06.94-2.06 2.06-.94-2.06-.94-.94-2.06-.94 2.06-2.06.94z\"/><path d=\"M17.41 7.96l-1.37-1.37c-.4-.4-.92-.59-1.43-.59-.52 0-1.04.2-1.43.59L10.3 9.45l-7.72 7.72c-.78.78-.78 2.05 0 2.83L4 21.41c.39.39.9.59 1.41.59.51 0 1.02-.2 1.41-.59l7.78-7.78 2.81-2.81c.8-.78.8-2.07 0-2.86zM5.41 20L4 18.59l7.72-7.72 1.47 1.35L5.41 20z\"/>\n",
              "  </svg>\n",
              "      </button>\n",
              "      \n",
              "  <style>\n",
              "    .colab-df-container {\n",
              "      display:flex;\n",
              "      flex-wrap:wrap;\n",
              "      gap: 12px;\n",
              "    }\n",
              "\n",
              "    .colab-df-convert {\n",
              "      background-color: #E8F0FE;\n",
              "      border: none;\n",
              "      border-radius: 50%;\n",
              "      cursor: pointer;\n",
              "      display: none;\n",
              "      fill: #1967D2;\n",
              "      height: 32px;\n",
              "      padding: 0 0 0 0;\n",
              "      width: 32px;\n",
              "    }\n",
              "\n",
              "    .colab-df-convert:hover {\n",
              "      background-color: #E2EBFA;\n",
              "      box-shadow: 0px 1px 2px rgba(60, 64, 67, 0.3), 0px 1px 3px 1px rgba(60, 64, 67, 0.15);\n",
              "      fill: #174EA6;\n",
              "    }\n",
              "\n",
              "    [theme=dark] .colab-df-convert {\n",
              "      background-color: #3B4455;\n",
              "      fill: #D2E3FC;\n",
              "    }\n",
              "\n",
              "    [theme=dark] .colab-df-convert:hover {\n",
              "      background-color: #434B5C;\n",
              "      box-shadow: 0px 1px 3px 1px rgba(0, 0, 0, 0.15);\n",
              "      filter: drop-shadow(0px 1px 2px rgba(0, 0, 0, 0.3));\n",
              "      fill: #FFFFFF;\n",
              "    }\n",
              "  </style>\n",
              "\n",
              "      <script>\n",
              "        const buttonEl =\n",
              "          document.querySelector('#df-5443563b-97f1-45ee-8579-c15a6f70a985 button.colab-df-convert');\n",
              "        buttonEl.style.display =\n",
              "          google.colab.kernel.accessAllowed ? 'block' : 'none';\n",
              "\n",
              "        async function convertToInteractive(key) {\n",
              "          const element = document.querySelector('#df-5443563b-97f1-45ee-8579-c15a6f70a985');\n",
              "          const dataTable =\n",
              "            await google.colab.kernel.invokeFunction('convertToInteractive',\n",
              "                                                     [key], {});\n",
              "          if (!dataTable) return;\n",
              "\n",
              "          const docLinkHtml = 'Like what you see? Visit the ' +\n",
              "            '<a target=\"_blank\" href=https://colab.research.google.com/notebooks/data_table.ipynb>data table notebook</a>'\n",
              "            + ' to learn more about interactive tables.';\n",
              "          element.innerHTML = '';\n",
              "          dataTable['output_type'] = 'display_data';\n",
              "          await google.colab.output.renderOutput(dataTable, element);\n",
              "          const docLink = document.createElement('div');\n",
              "          docLink.innerHTML = docLinkHtml;\n",
              "          element.appendChild(docLink);\n",
              "        }\n",
              "      </script>\n",
              "    </div>\n",
              "  </div>\n",
              "  "
            ]
          },
          "metadata": {},
          "execution_count": 54
        }
      ]
    },
    {
      "cell_type": "code",
      "source": [
        "fig,ax = plt.subplots()\n",
        "labels = list(plot_df3['diabetesMed'])\n",
        "less30 = list(plot_df3['<30'])\n",
        "greater30 = list(plot_df3['>30'])\n",
        "no = list(plot_df3['NO'])\n",
        "\n",
        "x = np.arange(len(labels))\n",
        "width = 0.3\n",
        "\n",
        "rects1 = ax.bar(x-0.3,no,width,label='NO')\n",
        "rects2 = ax.bar(x,greater30,width,label='>30')\n",
        "rects3 = ax.bar(x+0.3,less30,width,label='<30')\n",
        "\n",
        "ax.set_ylabel('Count')\n",
        "ax.set_title('Readmission rates by diabetes med status')\n",
        "ax.set_xticks(x)\n",
        "ax.set_xticklabels(labels)\n",
        "ax.legend()\n",
        "\n",
        "fig.tight_layout()\n",
        "\n",
        "plt.savefig('diabetesmed')\n",
        "plt.show()"
      ],
      "metadata": {
        "colab": {
          "base_uri": "https://localhost:8080/",
          "height": 297
        },
        "id": "CC8W4kAoz5-y",
        "outputId": "39522ca0-92dc-41b1-a316-e084d290a0a3"
      },
      "execution_count": 55,
      "outputs": [
        {
          "output_type": "display_data",
          "data": {
            "text/plain": [
              "<Figure size 432x288 with 1 Axes>"
            ],
            "image/png": "[encoded data removed]"
          },
          "metadata": {
            "needs_background": "light"
          }
        }
      ]
    },
    {
      "cell_type": "markdown",
      "source": [
        "## Prepare dataframe for model building"
      ],
      "metadata": {
        "id": "USQ9b3TheM91"
      }
    },
    {
      "cell_type": "code",
      "source": [
        "str_cols = [s for s in str_cols if s in df.columns and s != target]\n",
        "print(len(int_cols)+len(str_cols))"
      ],
      "metadata": {
        "colab": {
          "base_uri": "https://localhost:8080/"
        },
        "id": "sLScP61leLvd",
        "outputId": "649fd922-7075-4fe9-80ae-ce7353fc3e97"
      },
      "execution_count": 33,
      "outputs": [
        {
          "output_type": "stream",
          "name": "stdout",
          "text": [
            "29\n"
          ]
        }
      ]
    },
    {
      "cell_type": "code",
      "source": [
        "# Admission type, discharge disposition, and admission source are all categorical that have already been converted to numeric codes. \n",
        "# These will need to be one-hot encoded. Cast the values to floats.\n",
        "int_cols = [c for c in int_cols if c not in cat_cols]\n",
        "\n",
        "for c in cat_cols:\n",
        "  df = df.withColumn(c,df[c].cast(DecimalType()))"
      ],
      "metadata": {
        "id": "rZCc2WLXO_68"
      },
      "execution_count": 34,
      "outputs": []
    },
    {
      "cell_type": "code",
      "source": [
        "from pyspark.ml.feature import StringIndexer,OneHotEncoder,VectorAssembler\n",
        "from pyspark.ml import Pipeline\n",
        "\n",
        "# Apply String Indexing and One Hot Encoding, and assemble vectors\n",
        "\n",
        "# Indexer includes only string cols\n",
        "ind_cols = [x + \"_index\" for x in str_cols]\n",
        "string_indexer = StringIndexer(inputCols=str_cols, outputCols=ind_cols) \n",
        "\n",
        "# OHE includes string and int categorical cols\n",
        "encoder = OneHotEncoder(inputCols=string_indexer.getOutputCols() + cat_cols, outputCols=[x + \"_OHE\" for x in str_cols+cat_cols]) \n",
        "\n",
        "label_to_index = StringIndexer(inputCol=target,outputCol='label')\n",
        "\n",
        "assembler_inputs = [c+'_OHE' for c in str_cols+cat_cols] + int_cols\n",
        "vec_assembler = VectorAssembler(inputCols = assembler_inputs,outputCol='features')\n",
        "\n",
        "indexer_pipeline = Pipeline(stages=[string_indexer,encoder,label_to_index,vec_assembler])\n",
        "indexed_df = indexer_pipeline.fit(df).transform(df)\n",
        "\n",
        "indexed_df.show(5)"
      ],
      "metadata": {
        "colab": {
          "base_uri": "https://localhost:8080/"
        },
        "id": "dXJHNbrqgJ7A",
        "outputId": "4de363f2-bc15-4d47-b53f-6da71e759646"
      },
      "execution_count": 35,
      "outputs": [
        {
          "output_type": "stream",
          "name": "stdout",
          "text": [
            "+---------------+------+-------+-----------------+------------------------+-------------------+----------------+------------------+--------------+---------------+-----------------+----------------+----------------+----------------+-------------+---------+---------+-----------+-----------+-----------+---------+---------+------------+-------------+--------+-------+-------------------+------+-----------+----------+----------+------------+---------+-------------------+---------------+---------------+-----------------+-----------------+-----------------+---------------+---------------+------------------+-------------------+--------------+-------------+-------------------------+------------+-----------------+-------------+-------------+-------------+-----------------+-------------+-------------+---------------+---------------+---------------+-------------+-------------+----------------+-----------------+-------------+-------------+-----------------------+-------------+---------------+---------------------+----------------------------+-----------------------+-----+--------------------+\n",
            "|           race|gender|    age|admission_type_id|discharge_disposition_id|admission_source_id|time_in_hospital|num_lab_procedures|num_procedures|num_medications|number_outpatient|number_emergency|number_inpatient|number_diagnoses|max_glu_serum|A1Cresult|metformin|repaglinide|nateglinide|glimepiride|glipizide|glyburide|pioglitazone|rosiglitazone|acarbose|insulin|glyburide-metformin|change|diabetesMed|readmitted|race_index|gender_index|age_index|max_glu_serum_index|A1Cresult_index|metformin_index|repaglinide_index|nateglinide_index|glimepiride_index|glipizide_index|glyburide_index|pioglitazone_index|rosiglitazone_index|acarbose_index|insulin_index|glyburide-metformin_index|change_index|diabetesMed_index|     race_OHE|   gender_OHE|      age_OHE|max_glu_serum_OHE|A1Cresult_OHE|metformin_OHE|repaglinide_OHE|nateglinide_OHE|glimepiride_OHE|glipizide_OHE|glyburide_OHE|pioglitazone_OHE|rosiglitazone_OHE| acarbose_OHE|  insulin_OHE|glyburide-metformin_OHE|   change_OHE|diabetesMed_OHE|admission_type_id_OHE|discharge_disposition_id_OHE|admission_source_id_OHE|label|            features|\n",
            "+---------------+------+-------+-----------------+------------------------+-------------------+----------------+------------------+--------------+---------------+-----------------+----------------+----------------+----------------+-------------+---------+---------+-----------+-----------+-----------+---------+---------+------------+-------------+--------+-------+-------------------+------+-----------+----------+----------+------------+---------+-------------------+---------------+---------------+-----------------+-----------------+-----------------+---------------+---------------+------------------+-------------------+--------------+-------------+-------------------------+------------+-----------------+-------------+-------------+-------------+-----------------+-------------+-------------+---------------+---------------+---------------+-------------+-------------+----------------+-----------------+-------------+-------------+-----------------------+-------------+---------------+---------------------+----------------------------+-----------------------+-----+--------------------+\n",
            "|      Caucasian|Female|[10-20)|                1|                       1|                  7|               3|                59|             0|             18|                0|               0|               0|               9|         None|     None|       No|         No|         No|         No|       No|       No|          No|           No|      No|     Up|                 No|    Ch|        Yes|       >30|       0.0|         0.0|      8.0|                0.0|            0.0|            0.0|              0.0|              0.0|              0.0|            0.0|            0.0|               0.0|                0.0|           0.0|          3.0|                      0.0|         1.0|              0.0|(4,[0],[1.0])|(1,[0],[1.0])|(9,[8],[1.0])|    (1,[0],[1.0])|(3,[0],[1.0])|(3,[0],[1.0])|  (2,[0],[1.0])|  (1,[0],[1.0])|  (3,[0],[1.0])|(3,[0],[1.0])|(3,[0],[1.0])|   (2,[0],[1.0])|    (2,[0],[1.0])|(1,[0],[1.0])|    (3,[],[])|          (1,[0],[1.0])|    (1,[],[])|  (1,[0],[1.0])|        (8,[1],[1.0])|              (28,[1],[1.0])|         (20,[7],[1.0])|  1.0|(108,[0,4,13,14,1...|\n",
            "|AfricanAmerican|Female|[20-30)|                1|                       1|                  7|               2|                11|             5|             13|                2|               0|               1|               6|         None|     None|       No|         No|         No|         No|   Steady|       No|          No|           No|      No|     No|                 No|    No|        Yes|        NO|       1.0|         0.0|      7.0|                0.0|            0.0|            0.0|              0.0|              0.0|              0.0|            1.0|            0.0|               0.0|                0.0|           0.0|          0.0|                      0.0|         0.0|              0.0|(4,[1],[1.0])|(1,[0],[1.0])|(9,[7],[1.0])|    (1,[0],[1.0])|(3,[0],[1.0])|(3,[0],[1.0])|  (2,[0],[1.0])|  (1,[0],[1.0])|  (3,[0],[1.0])|(3,[1],[1.0])|(3,[0],[1.0])|   (2,[0],[1.0])|    (2,[0],[1.0])|(1,[0],[1.0])|(3,[0],[1.0])|          (1,[0],[1.0])|(1,[0],[1.0])|  (1,[0],[1.0])|        (8,[1],[1.0])|              (28,[1],[1.0])|         (20,[7],[1.0])|  0.0|(108,[1,4,12,14,1...|\n",
            "|      Caucasian|  Male|[30-40)|                1|                       1|                  7|               2|                44|             1|             16|                0|               0|               0|               7|         None|     None|       No|         No|         No|         No|       No|       No|          No|           No|      No|     Up|                 No|    Ch|        Yes|        NO|       0.0|         1.0|      5.0|                0.0|            0.0|            0.0|              0.0|              0.0|              0.0|            0.0|            0.0|               0.0|                0.0|           0.0|          3.0|                      0.0|         1.0|              0.0|(4,[0],[1.0])|    (1,[],[])|(9,[5],[1.0])|    (1,[0],[1.0])|(3,[0],[1.0])|(3,[0],[1.0])|  (2,[0],[1.0])|  (1,[0],[1.0])|  (3,[0],[1.0])|(3,[0],[1.0])|(3,[0],[1.0])|   (2,[0],[1.0])|    (2,[0],[1.0])|(1,[0],[1.0])|    (3,[],[])|          (1,[0],[1.0])|    (1,[],[])|  (1,[0],[1.0])|        (8,[1],[1.0])|              (28,[1],[1.0])|         (20,[7],[1.0])|  0.0|(108,[0,10,14,15,...|\n",
            "|      Caucasian|  Male|[40-50)|                1|                       1|                  7|               1|                51|             0|              8|                0|               0|               0|               5|         None|     None|       No|         No|         No|         No|   Steady|       No|          No|           No|      No| Steady|                 No|    Ch|        Yes|        NO|       0.0|         1.0|      4.0|                0.0|            0.0|            0.0|              0.0|              0.0|              0.0|            1.0|            0.0|               0.0|                0.0|           0.0|          1.0|                      0.0|         1.0|              0.0|(4,[0],[1.0])|    (1,[],[])|(9,[4],[1.0])|    (1,[0],[1.0])|(3,[0],[1.0])|(3,[0],[1.0])|  (2,[0],[1.0])|  (1,[0],[1.0])|  (3,[0],[1.0])|(3,[1],[1.0])|(3,[0],[1.0])|   (2,[0],[1.0])|    (2,[0],[1.0])|(1,[0],[1.0])|(3,[1],[1.0])|          (1,[0],[1.0])|    (1,[],[])|  (1,[0],[1.0])|        (8,[1],[1.0])|              (28,[1],[1.0])|         (20,[7],[1.0])|  0.0|(108,[0,9,14,15,1...|\n",
            "|      Caucasian|  Male|[50-60)|                2|                       1|                  2|               3|                31|             6|             16|                0|               0|               0|               9|         None|     None|       No|         No|         No|         No|       No|       No|          No|           No|      No| Steady|                 No|    No|        Yes|       >30|       0.0|         1.0|      2.0|                0.0|            0.0|            0.0|              0.0|              0.0|              0.0|            0.0|            0.0|               0.0|                0.0|           0.0|          1.0|                      0.0|         0.0|              0.0|(4,[0],[1.0])|    (1,[],[])|(9,[2],[1.0])|    (1,[0],[1.0])|(3,[0],[1.0])|(3,[0],[1.0])|  (2,[0],[1.0])|  (1,[0],[1.0])|  (3,[0],[1.0])|(3,[0],[1.0])|(3,[0],[1.0])|   (2,[0],[1.0])|    (2,[0],[1.0])|(1,[0],[1.0])|(3,[1],[1.0])|          (1,[0],[1.0])|(1,[0],[1.0])|  (1,[0],[1.0])|        (8,[2],[1.0])|              (28,[1],[1.0])|         (20,[2],[1.0])|  1.0|(108,[0,7,14,15,1...|\n",
            "+---------------+------+-------+-----------------+------------------------+-------------------+----------------+------------------+--------------+---------------+-----------------+----------------+----------------+----------------+-------------+---------+---------+-----------+-----------+-----------+---------+---------+------------+-------------+--------+-------+-------------------+------+-----------+----------+----------+------------+---------+-------------------+---------------+---------------+-----------------+-----------------+-----------------+---------------+---------------+------------------+-------------------+--------------+-------------+-------------------------+------------+-----------------+-------------+-------------+-------------+-----------------+-------------+-------------+---------------+---------------+---------------+-------------+-------------+----------------+-----------------+-------------+-------------+-----------------------+-------------+---------------+---------------------+----------------------------+-----------------------+-----+--------------------+\n",
            "only showing top 5 rows\n",
            "\n"
          ]
        }
      ]
    },
    {
      "cell_type": "code",
      "source": [
        "# Apply PCA\n",
        "from pyspark.ml.feature import PCA\n",
        "\n",
        "pca = PCA(k=3,inputCol='features',outputCol='pca_features')\n",
        "indexed_df = pca.fit(indexed_df).transform(indexed_df)\n",
        "indexed_df.show(5)"
      ],
      "metadata": {
        "colab": {
          "base_uri": "https://localhost:8080/"
        },
        "id": "1yHLfXpKhy4K",
        "outputId": "aef86092-2f94-4d46-a0c9-0d7f4e305ba1"
      },
      "execution_count": 36,
      "outputs": [
        {
          "output_type": "stream",
          "name": "stdout",
          "text": [
            "+---------------+------+-------+-----------------+------------------------+-------------------+----------------+------------------+--------------+---------------+-----------------+----------------+----------------+----------------+-------------+---------+---------+-----------+-----------+-----------+---------+---------+------------+-------------+--------+-------+-------------------+------+-----------+----------+----------+------------+---------+-------------------+---------------+---------------+-----------------+-----------------+-----------------+---------------+---------------+------------------+-------------------+--------------+-------------+-------------------------+------------+-----------------+-------------+-------------+-------------+-----------------+-------------+-------------+---------------+---------------+---------------+-------------+-------------+----------------+-----------------+-------------+-------------+-----------------------+-------------+---------------+---------------------+----------------------------+-----------------------+-----+--------------------+--------------------+\n",
            "|           race|gender|    age|admission_type_id|discharge_disposition_id|admission_source_id|time_in_hospital|num_lab_procedures|num_procedures|num_medications|number_outpatient|number_emergency|number_inpatient|number_diagnoses|max_glu_serum|A1Cresult|metformin|repaglinide|nateglinide|glimepiride|glipizide|glyburide|pioglitazone|rosiglitazone|acarbose|insulin|glyburide-metformin|change|diabetesMed|readmitted|race_index|gender_index|age_index|max_glu_serum_index|A1Cresult_index|metformin_index|repaglinide_index|nateglinide_index|glimepiride_index|glipizide_index|glyburide_index|pioglitazone_index|rosiglitazone_index|acarbose_index|insulin_index|glyburide-metformin_index|change_index|diabetesMed_index|     race_OHE|   gender_OHE|      age_OHE|max_glu_serum_OHE|A1Cresult_OHE|metformin_OHE|repaglinide_OHE|nateglinide_OHE|glimepiride_OHE|glipizide_OHE|glyburide_OHE|pioglitazone_OHE|rosiglitazone_OHE| acarbose_OHE|  insulin_OHE|glyburide-metformin_OHE|   change_OHE|diabetesMed_OHE|admission_type_id_OHE|discharge_disposition_id_OHE|admission_source_id_OHE|label|            features|        pca_features|\n",
            "+---------------+------+-------+-----------------+------------------------+-------------------+----------------+------------------+--------------+---------------+-----------------+----------------+----------------+----------------+-------------+---------+---------+-----------+-----------+-----------+---------+---------+------------+-------------+--------+-------+-------------------+------+-----------+----------+----------+------------+---------+-------------------+---------------+---------------+-----------------+-----------------+-----------------+---------------+---------------+------------------+-------------------+--------------+-------------+-------------------------+------------+-----------------+-------------+-------------+-------------+-----------------+-------------+-------------+---------------+---------------+---------------+-------------+-------------+----------------+-----------------+-------------+-------------+-----------------------+-------------+---------------+---------------------+----------------------------+-----------------------+-----+--------------------+--------------------+\n",
            "|      Caucasian|Female|[10-20)|                1|                       1|                  7|               3|                59|             0|             18|                0|               0|               0|               9|         None|     None|       No|         No|         No|         No|       No|       No|          No|           No|      No|     Up|                 No|    Ch|        Yes|       >30|       0.0|         0.0|      8.0|                0.0|            0.0|            0.0|              0.0|              0.0|              0.0|            0.0|            0.0|               0.0|                0.0|           0.0|          3.0|                      0.0|         1.0|              0.0|(4,[0],[1.0])|(1,[0],[1.0])|(9,[8],[1.0])|    (1,[0],[1.0])|(3,[0],[1.0])|(3,[0],[1.0])|  (2,[0],[1.0])|  (1,[0],[1.0])|  (3,[0],[1.0])|(3,[0],[1.0])|(3,[0],[1.0])|   (2,[0],[1.0])|    (2,[0],[1.0])|(1,[0],[1.0])|    (3,[],[])|          (1,[0],[1.0])|    (1,[],[])|  (1,[0],[1.0])|        (8,[1],[1.0])|              (28,[1],[1.0])|         (20,[7],[1.0])|  1.0|(108,[0,4,13,14,1...|[-61.148600373955...|\n",
            "|AfricanAmerican|Female|[20-30)|                1|                       1|                  7|               2|                11|             5|             13|                2|               0|               1|               6|         None|     None|       No|         No|         No|         No|   Steady|       No|          No|           No|      No|     No|                 No|    No|        Yes|        NO|       1.0|         0.0|      7.0|                0.0|            0.0|            0.0|              0.0|              0.0|              0.0|            1.0|            0.0|               0.0|                0.0|           0.0|          0.0|                      0.0|         0.0|              0.0|(4,[1],[1.0])|(1,[0],[1.0])|(9,[7],[1.0])|    (1,[0],[1.0])|(3,[0],[1.0])|(3,[0],[1.0])|  (2,[0],[1.0])|  (1,[0],[1.0])|  (3,[0],[1.0])|(3,[1],[1.0])|(3,[0],[1.0])|   (2,[0],[1.0])|    (2,[0],[1.0])|(1,[0],[1.0])|(3,[0],[1.0])|          (1,[0],[1.0])|(1,[0],[1.0])|  (1,[0],[1.0])|        (8,[1],[1.0])|              (28,[1],[1.0])|         (20,[7],[1.0])|  0.0|(108,[1,4,12,14,1...|[-12.921269723287...|\n",
            "|      Caucasian|  Male|[30-40)|                1|                       1|                  7|               2|                44|             1|             16|                0|               0|               0|               7|         None|     None|       No|         No|         No|         No|       No|       No|          No|           No|      No|     Up|                 No|    Ch|        Yes|        NO|       0.0|         1.0|      5.0|                0.0|            0.0|            0.0|              0.0|              0.0|              0.0|            0.0|            0.0|               0.0|                0.0|           0.0|          3.0|                      0.0|         1.0|              0.0|(4,[0],[1.0])|    (1,[],[])|(9,[5],[1.0])|    (1,[0],[1.0])|(3,[0],[1.0])|(3,[0],[1.0])|  (2,[0],[1.0])|  (1,[0],[1.0])|  (3,[0],[1.0])|(3,[0],[1.0])|(3,[0],[1.0])|   (2,[0],[1.0])|    (2,[0],[1.0])|(1,[0],[1.0])|    (3,[],[])|          (1,[0],[1.0])|    (1,[],[])|  (1,[0],[1.0])|        (8,[1],[1.0])|              (28,[1],[1.0])|         (20,[7],[1.0])|  0.0|(108,[0,10,14,15,...|[-45.958331901450...|\n",
            "|      Caucasian|  Male|[40-50)|                1|                       1|                  7|               1|                51|             0|              8|                0|               0|               0|               5|         None|     None|       No|         No|         No|         No|   Steady|       No|          No|           No|      No| Steady|                 No|    Ch|        Yes|        NO|       0.0|         1.0|      4.0|                0.0|            0.0|            0.0|              0.0|              0.0|              0.0|            1.0|            0.0|               0.0|                0.0|           0.0|          1.0|                      0.0|         1.0|              0.0|(4,[0],[1.0])|    (1,[],[])|(9,[4],[1.0])|    (1,[0],[1.0])|(3,[0],[1.0])|(3,[0],[1.0])|  (2,[0],[1.0])|  (1,[0],[1.0])|  (3,[0],[1.0])|(3,[1],[1.0])|(3,[0],[1.0])|   (2,[0],[1.0])|    (2,[0],[1.0])|(1,[0],[1.0])|(3,[1],[1.0])|          (1,[0],[1.0])|    (1,[],[])|  (1,[0],[1.0])|        (8,[1],[1.0])|              (28,[1],[1.0])|         (20,[7],[1.0])|  0.0|(108,[0,9,14,15,1...|[-51.674580771556...|\n",
            "|      Caucasian|  Male|[50-60)|                2|                       1|                  2|               3|                31|             6|             16|                0|               0|               0|               9|         None|     None|       No|         No|         No|         No|       No|       No|          No|           No|      No| Steady|                 No|    No|        Yes|       >30|       0.0|         1.0|      2.0|                0.0|            0.0|            0.0|              0.0|              0.0|              0.0|            0.0|            0.0|               0.0|                0.0|           0.0|          1.0|                      0.0|         0.0|              0.0|(4,[0],[1.0])|    (1,[],[])|(9,[2],[1.0])|    (1,[0],[1.0])|(3,[0],[1.0])|(3,[0],[1.0])|  (2,[0],[1.0])|  (1,[0],[1.0])|  (3,[0],[1.0])|(3,[0],[1.0])|(3,[0],[1.0])|   (2,[0],[1.0])|    (2,[0],[1.0])|(1,[0],[1.0])|(3,[1],[1.0])|          (1,[0],[1.0])|(1,[0],[1.0])|  (1,[0],[1.0])|        (8,[2],[1.0])|              (28,[1],[1.0])|         (20,[2],[1.0])|  1.0|(108,[0,7,14,15,1...|[-33.203964634539...|\n",
            "+---------------+------+-------+-----------------+------------------------+-------------------+----------------+------------------+--------------+---------------+-----------------+----------------+----------------+----------------+-------------+---------+---------+-----------+-----------+-----------+---------+---------+------------+-------------+--------+-------+-------------------+------+-----------+----------+----------+------------+---------+-------------------+---------------+---------------+-----------------+-----------------+-----------------+---------------+---------------+------------------+-------------------+--------------+-------------+-------------------------+------------+-----------------+-------------+-------------+-------------+-----------------+-------------+-------------+---------------+---------------+---------------+-------------+-------------+----------------+-----------------+-------------+-------------+-----------------------+-------------+---------------+---------------------+----------------------------+-----------------------+-----+--------------------+--------------------+\n",
            "only showing top 5 rows\n",
            "\n"
          ]
        }
      ]
    },
    {
      "cell_type": "code",
      "source": [
        "# Split the data into training, test sets\n",
        "SEED = 25\n",
        "\n",
        "train_df,test_df = indexed_df.randomSplit([0.8,0.2],seed=SEED)\n",
        "print(train_df.cache().count())\n",
        "print(test_df.count())"
      ],
      "metadata": {
        "colab": {
          "base_uri": "https://localhost:8080/"
        },
        "id": "rgfzgcdyi6Cq",
        "outputId": "c7ab6f2c-6e71-42d7-d9da-85f76687f330"
      },
      "execution_count": 37,
      "outputs": [
        {
          "output_type": "stream",
          "name": "stdout",
          "text": [
            "68788\n",
            "17117\n"
          ]
        }
      ]
    },
    {
      "cell_type": "markdown",
      "source": [
        "## Build the models"
      ],
      "metadata": {
        "id": "l8tDUvl3oTd6"
      }
    },
    {
      "cell_type": "code",
      "source": [
        "from pyspark.ml.classification import LogisticRegression, DecisionTreeClassifier, RandomForestClassifier\n",
        "\n",
        "lr = LogisticRegression()\n",
        "dt = DecisionTreeClassifier()\n",
        "rf = RandomForestClassifier()\n",
        "\n",
        "lr_pca = LogisticRegression(featuresCol='pca_features')\n",
        "dt_pca = DecisionTreeClassifier(featuresCol='pca_features')\n",
        "rf_pca = RandomForestClassifier(featuresCol='pca_features')"
      ],
      "metadata": {
        "id": "ZDvQXZNQoXUv"
      },
      "execution_count": 38,
      "outputs": []
    },
    {
      "cell_type": "code",
      "source": [
        "lr_df = lr.fit(train_df).transform(test_df)\n",
        "dt_df = dt.fit(train_df).transform(test_df)\n",
        "rf_df = rf.fit(train_df).transform(test_df)\n",
        "\n",
        "lr_pca_df = lr_pca.fit(train_df).transform(test_df)\n",
        "dt_pca_df = dt_pca.fit(train_df).transform(test_df)\n",
        "rf_pca_df = rf_pca.fit(train_df).transform(test_df)"
      ],
      "metadata": {
        "id": "g_DB8Lc3oSMG"
      },
      "execution_count": 39,
      "outputs": []
    },
    {
      "cell_type": "code",
      "source": [
        "lr_df.select('label','prediction','probability').show(5)"
      ],
      "metadata": {
        "colab": {
          "base_uri": "https://localhost:8080/"
        },
        "id": "JODOcEmBqwCE",
        "outputId": "173c7ab8-09f8-41b5-a007-62a543f7a8eb"
      },
      "execution_count": 40,
      "outputs": [
        {
          "output_type": "stream",
          "name": "stdout",
          "text": [
            "+-----+----------+--------------------+\n",
            "|label|prediction|         probability|\n",
            "+-----+----------+--------------------+\n",
            "|  1.0|       1.0|[0.36899175012589...|\n",
            "|  0.0|       0.0|[0.71792547479820...|\n",
            "|  0.0|       0.0|[0.65564936339654...|\n",
            "|  2.0|       0.0|[0.58418100935890...|\n",
            "|  0.0|       0.0|[0.69906300245150...|\n",
            "+-----+----------+--------------------+\n",
            "only showing top 5 rows\n",
            "\n"
          ]
        }
      ]
    },
    {
      "cell_type": "code",
      "source": [
        "from pyspark.ml.evaluation import MulticlassClassificationEvaluator\n",
        "accuracy_evaluator = MulticlassClassificationEvaluator()\n",
        "\n",
        "print('Logistic Regression')\n",
        "print('Accuracy without PCA:',accuracy_evaluator.evaluate(lr_df))\n",
        "print('Accuracy with PCA:',accuracy_evaluator.evaluate(lr_pca_df))\n",
        "print('')\n",
        "\n",
        "print('Decision Tree')\n",
        "print('Accuracy without PCA:',accuracy_evaluator.evaluate(dt_df))\n",
        "print('Accuracy with PCA:',accuracy_evaluator.evaluate(dt_pca_df))\n",
        "print('')\n",
        "\n",
        "print('Random Forest')\n",
        "print('Accuracy without PCA:',accuracy_evaluator.evaluate(rf_df))\n",
        "print('Accuracy with PCA:',accuracy_evaluator.evaluate(rf_pca_df))"
      ],
      "metadata": {
        "colab": {
          "base_uri": "https://localhost:8080/"
        },
        "id": "dG4Pr0QRq-zJ",
        "outputId": "4d59726d-6858-45d1-e9a1-5c6144657aa4"
      },
      "execution_count": 41,
      "outputs": [
        {
          "output_type": "stream",
          "name": "stdout",
          "text": [
            "Logistic Regression\n",
            "Accuracy without PCA: 0.5175458006598406\n",
            "Accuracy with PCA: 0.37191823654696315\n",
            "\n",
            "Decision Tree\n",
            "Accuracy without PCA: 0.5186313165345451\n",
            "Accuracy with PCA: 0.37194358468509675\n",
            "\n",
            "Random Forest\n",
            "Accuracy without PCA: 0.42769988167760153\n",
            "Accuracy with PCA: 0.3716816632861615\n"
          ]
        }
      ]
    },
    {
      "cell_type": "markdown",
      "source": [
        "All three classifiers seemed to perform poorly, and the PCA actually made the predictions worse. Random Forest performed the worst, and Decision Tree barely outperformed Logistic Regression."
      ],
      "metadata": {
        "id": "h-V0PI4ytA-Z"
      }
    },
    {
      "cell_type": "markdown",
      "source": [
        "## Evaluation"
      ],
      "metadata": {
        "id": "imJ8fmdbVscc"
      }
    },
    {
      "cell_type": "code",
      "source": [
        "# Show Confusion Matrix for each model\n",
        "from pyspark.mllib.evaluation import MulticlassMetrics\n",
        "import seaborn as sns\n",
        "import matplotlib.pyplot as plt\n",
        "\n",
        "def show_confusion_matrix(pred_df,filename):\n",
        "  preds_and_labels = pred_df.select(['prediction','label'])\n",
        "  metrics = MulticlassMetrics(preds_and_labels.rdd.map(tuple))\n",
        "  matrix = metrics.confusionMatrix().toArray()\n",
        "\n",
        "  sns.heatmap(matrix, annot=True,cmap='crest')\n",
        "  plt.xlabel('Prediction')\n",
        "  plt.ylabel('True')\n",
        "\n",
        "  plt.savefig(filename)\n",
        "  plt.show()"
      ],
      "metadata": {
        "id": "UQ9S2WYmVV8g"
      },
      "execution_count": 56,
      "outputs": []
    },
    {
      "cell_type": "code",
      "source": [
        "indexed_df.groupby('readmitted','label').count().show()"
      ],
      "metadata": {
        "colab": {
          "base_uri": "https://localhost:8080/"
        },
        "id": "O8p6HihP1cE3",
        "outputId": "c0d142ba-71fc-4d10-c3c3-05330e966d1d"
      },
      "execution_count": 43,
      "outputs": [
        {
          "output_type": "stream",
          "name": "stdout",
          "text": [
            "+----------+-----+-----+\n",
            "|readmitted|label|count|\n",
            "+----------+-----+-----+\n",
            "|       <30|  2.0| 9582|\n",
            "|       >30|  1.0|30321|\n",
            "|        NO|  0.0|46002|\n",
            "+----------+-----+-----+\n",
            "\n"
          ]
        }
      ]
    },
    {
      "cell_type": "code",
      "source": [
        "show_confusion_matrix(lr_df,'logisticregression')"
      ],
      "metadata": {
        "colab": {
          "base_uri": "https://localhost:8080/",
          "height": 337
        },
        "id": "I_VnJG9pacX5",
        "outputId": "74209436-a3c4-4c93-a567-971b4e28ee66"
      },
      "execution_count": 57,
      "outputs": [
        {
          "output_type": "stream",
          "name": "stderr",
          "text": [
            "/usr/local/lib/python3.8/dist-packages/pyspark/sql/context.py:157: FutureWarning: Deprecated in 3.0.0. Use SparkSession.builder.getOrCreate() instead.\n",
            "  warnings.warn(\n"
          ]
        },
        {
          "output_type": "display_data",
          "data": {
            "text/plain": [
              "<Figure size 432x288 with 2 Axes>"
            ],
            "image/png": "[encoded data removed]"
          },
          "metadata": {
            "needs_background": "light"
          }
        }
      ]
    },
    {
      "cell_type": "code",
      "source": [
        "show_confusion_matrix(lr_pca_df,'logisticregressionpca')"
      ],
      "metadata": {
        "colab": {
          "base_uri": "https://localhost:8080/",
          "height": 279
        },
        "id": "PYwYHk85bCiS",
        "outputId": "6674a823-d034-45da-8a20-f4630b35018b"
      },
      "execution_count": 63,
      "outputs": [
        {
          "output_type": "display_data",
          "data": {
            "text/plain": [
              "<Figure size 432x288 with 2 Axes>"
            ],
            "image/png": "[encoded data removed]"
          },
          "metadata": {
            "needs_background": "light"
          }
        }
      ]
    },
    {
      "cell_type": "code",
      "source": [
        "show_confusion_matrix(dt_df,'decisiontree')"
      ],
      "metadata": {
        "colab": {
          "base_uri": "https://localhost:8080/",
          "height": 279
        },
        "id": "Ei7EQ-6WbKak",
        "outputId": "362b8233-f301-491f-f9a9-1003d2090273"
      },
      "execution_count": 59,
      "outputs": [
        {
          "output_type": "display_data",
          "data": {
            "text/plain": [
              "<Figure size 432x288 with 2 Axes>"
            ],
            "image/png": "[encoded data removed]"
          },
          "metadata": {
            "needs_background": "light"
          }
        }
      ]
    },
    {
      "cell_type": "code",
      "source": [
        "show_confusion_matrix(dt_pca_df,'decisiontreepca')"
      ],
      "metadata": {
        "colab": {
          "base_uri": "https://localhost:8080/",
          "height": 279
        },
        "id": "m29GjfQMbM0Z",
        "outputId": "6918cf85-ec35-438d-d2d5-dbae9cf26237"
      },
      "execution_count": 60,
      "outputs": [
        {
          "output_type": "display_data",
          "data": {
            "text/plain": [
              "<Figure size 432x288 with 2 Axes>"
            ],
            "image/png": "[encoded data removed]"
          },
          "metadata": {
            "needs_background": "light"
          }
        }
      ]
    },
    {
      "cell_type": "code",
      "source": [
        "show_confusion_matrix(rf_df,'randomforest')"
      ],
      "metadata": {
        "colab": {
          "base_uri": "https://localhost:8080/",
          "height": 279
        },
        "id": "ZNyQl0b8bOre",
        "outputId": "6e236878-2005-4609-a11c-82e1e8d36fea"
      },
      "execution_count": 61,
      "outputs": [
        {
          "output_type": "display_data",
          "data": {
            "text/plain": [
              "<Figure size 432x288 with 2 Axes>"
            ],
            "image/png": "[encoded data removed]"
          },
          "metadata": {
            "needs_background": "light"
          }
        }
      ]
    },
    {
      "cell_type": "code",
      "source": [
        "show_confusion_matrix(rf_pca_df,'randomforestpca')"
      ],
      "metadata": {
        "colab": {
          "base_uri": "https://localhost:8080/",
          "height": 279
        },
        "id": "IOhxOaJ9bQyK",
        "outputId": "c060103b-0e94-4673-c06c-3f2f48e11228"
      },
      "execution_count": 62,
      "outputs": [
        {
          "output_type": "display_data",
          "data": {
            "text/plain": [
              "<Figure size 432x288 with 2 Axes>"
            ],
            "image/png": "[encoded data removed]"
          },
          "metadata": {
            "needs_background": "light"
          }
        }
      ]
    }
  ]
}